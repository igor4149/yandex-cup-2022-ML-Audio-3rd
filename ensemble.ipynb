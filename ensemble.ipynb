{
 "cells": [
  {
   "cell_type": "code",
   "execution_count": 1,
   "id": "f839dee0",
   "metadata": {
    "cellId": "xbayem0ez4jzv7dr6rtz"
   },
   "outputs": [],
   "source": [
    "#!g1.1\n",
    "import numpy as np\n",
    "import pandas as pd\n",
    "import os\n",
    "import random\n",
    "from tqdm.auto import tqdm\n",
    "!export CUBLAS_WORKSPACE_CONFIG=':4096:8'\n",
    "import copy\n",
    "\n",
    "import torch\n",
    "import torch.nn as nn\n",
    "import torch.nn.functional as F\n",
    "import torch.optim as optim\n",
    "DEVICE = 'cuda' if torch.cuda.is_available() else 'cpu'\n",
    "torch.set_grad_enabled(False)\n",
    "nw = 8\n",
    "\n",
    "BASE = '/home/jupyter/mnt/datasets/full_dataset/'\n",
    "meta = pd.read_csv(os.path.join(BASE, 'train_meta.tsv'), sep='\\t')\n",
    "train_meta = meta"
   ]
  },
  {
   "cell_type": "code",
   "execution_count": 3,
   "id": "e54152f3",
   "metadata": {
    "cellId": "x4cfdpxfhhixm2v7o9xd0r"
   },
   "outputs": [],
   "source": [
    "#!g1.1\n",
    "checkpoints = [\n",
    "    'att2net_fold_0_32_epoch_0.55146_ndcg.pth',\n",
    "    'att2net_fold_1_30_epoch_0.53716_ndcg.pth',\n",
    "    'att2net_fold_2_35_epoch_0.54485_ndcg.pth',\n",
    "    'att2net_fold_3_34_epoch_0.53384_ndcg.pth',\n",
    "    'att2net_fold_4_35_epoch_0.53940_ndcg.pth',\n",
    "    'att2net_fold_5_31_epoch_0.53342_ndcg.pth',\n",
    "    'att2net_fold_6_32_epoch_0.55152_ndcg.pth',\n",
    "    'att2net_fold_7_32_epoch_0.54322_ndcg.pth',\n",
    "    'att2net_fold_8_32_epoch_0.54593_ndcg.pth',\n",
    "    'att2net_fold_9_32_epoch_0.54423_ndcg.pth'\n",
    "] #for ensembling\n",
    "\n",
    "model_bank = []\n",
    "\n",
    "from simple_network import Net\n",
    "\n",
    "for ckp in checkpoints:\n",
    "    cur_model = Net(input_dim=512, emb_dim=1024); cur_model.eval(); cur_model.to(DEVICE);\n",
    "    cur_model.load_state_dict(torch.load(ckp))\n",
    "    model_bank.append(cur_model)\n",
    "    \n",
    "#basically what follows is the same ASNorm inference, but with multiple models"
   ]
  },
  {
   "cell_type": "code",
   "execution_count": 4,
   "id": "e0d61154",
   "metadata": {
    "cellId": "yedynsiz6egmc4j8zvwn"
   },
   "outputs": [],
   "source": [
    "#!g1.1\n",
    "from torch.utils.data import Dataset, DataLoader\n",
    "from datasets import CohortDataset\n",
    "\n",
    "cohort_size = 10000\n",
    "counts = train_meta.groupby('artistid').count()\n",
    "cohort_idx = np.random.permutation(counts[counts.trackid == 10].index.values)[:cohort_size]\n",
    "    \n",
    "cohort_dataset = CohortDataset(train_meta, os.path.join(BASE, 'train_features'), cohort_idx)\n",
    "cohort_loader = DataLoader(cohort_dataset, batch_size=64, shuffle=False, num_workers=nw, pin_memory=True, drop_last=False)"
   ]
  },
  {
   "cell_type": "code",
   "execution_count": 5,
   "id": "a8e3cfc1",
   "metadata": {
    "cellId": "5a90sphb377bz4madaowx8"
   },
   "outputs": [
    {
     "data": {
      "application/vnd.jupyter.widget-view+json": {
       "model_id": "74aae96720c74cc2bf48193f4adf63ee",
       "version_major": 2,
       "version_minor": 0
      },
      "text/plain": [
       "HBox(children=(HTML(value='collect'), FloatProgress(value=0.0, max=157.0), HTML(value='')))"
      ]
     },
     "metadata": {},
     "output_type": "display_data"
    },
    {
     "data": {
      "application/vnd.jupyter.widget-view+json": {
       "model_id": "c03bc5e322024b0da2f9cbabbace9a45",
       "version_major": 2,
       "version_minor": 0
      },
      "text/plain": [
       "HBox(children=(HTML(value='score'), FloatProgress(value=0.0, max=20.0), HTML(value='')))"
      ]
     },
     "metadata": {},
     "output_type": "display_data"
    },
    {
     "data": {
      "application/vnd.jupyter.widget-view+json": {
       "model_id": "1a67c86114a5460ba1dc94ae92436423",
       "version_major": 2,
       "version_minor": 0
      },
      "text/plain": [
       "HBox(children=(HTML(value='score: 0'), FloatProgress(value=1.0, bar_style='info', layout=Layout(width='20px'),…"
      ]
     },
     "metadata": {},
     "output_type": "display_data"
    },
    {
     "data": {
      "application/vnd.jupyter.widget-view+json": {
       "model_id": "e854af9b3bf24a27874bd2e69a05c960",
       "version_major": 2,
       "version_minor": 0
      },
      "text/plain": [
       "HBox(children=(HTML(value='score: 1'), FloatProgress(value=1.0, bar_style='info', layout=Layout(width='20px'),…"
      ]
     },
     "metadata": {},
     "output_type": "display_data"
    },
    {
     "data": {
      "application/vnd.jupyter.widget-view+json": {
       "model_id": "f6d7d8339bf54ff5be791f15aea0aef6",
       "version_major": 2,
       "version_minor": 0
      },
      "text/plain": [
       "HBox(children=(HTML(value='score: 2'), FloatProgress(value=1.0, bar_style='info', layout=Layout(width='20px'),…"
      ]
     },
     "metadata": {},
     "output_type": "display_data"
    },
    {
     "data": {
      "application/vnd.jupyter.widget-view+json": {
       "model_id": "a8fcd5070c7b4b1087f2d5d737db3b7e",
       "version_major": 2,
       "version_minor": 0
      },
      "text/plain": [
       "HBox(children=(HTML(value='score: 3'), FloatProgress(value=1.0, bar_style='info', layout=Layout(width='20px'),…"
      ]
     },
     "metadata": {},
     "output_type": "display_data"
    },
    {
     "data": {
      "application/vnd.jupyter.widget-view+json": {
       "model_id": "84348564043a46e1b4019a46e4b1bb85",
       "version_major": 2,
       "version_minor": 0
      },
      "text/plain": [
       "HBox(children=(HTML(value='score: 4'), FloatProgress(value=1.0, bar_style='info', layout=Layout(width='20px'),…"
      ]
     },
     "metadata": {},
     "output_type": "display_data"
    },
    {
     "data": {
      "application/vnd.jupyter.widget-view+json": {
       "model_id": "4fdc2fd2a7414cc0813da0b8780bd49e",
       "version_major": 2,
       "version_minor": 0
      },
      "text/plain": [
       "HBox(children=(HTML(value='score: 5'), FloatProgress(value=1.0, bar_style='info', layout=Layout(width='20px'),…"
      ]
     },
     "metadata": {},
     "output_type": "display_data"
    },
    {
     "data": {
      "application/vnd.jupyter.widget-view+json": {
       "model_id": "c945fa051b7b4560bfce5b5a04fcb26f",
       "version_major": 2,
       "version_minor": 0
      },
      "text/plain": [
       "HBox(children=(HTML(value='score: 6'), FloatProgress(value=1.0, bar_style='info', layout=Layout(width='20px'),…"
      ]
     },
     "metadata": {},
     "output_type": "display_data"
    },
    {
     "data": {
      "application/vnd.jupyter.widget-view+json": {
       "model_id": "66ed7cccefdc45eeb55d6f0f72f9cd59",
       "version_major": 2,
       "version_minor": 0
      },
      "text/plain": [
       "HBox(children=(HTML(value='score: 7'), FloatProgress(value=1.0, bar_style='info', layout=Layout(width='20px'),…"
      ]
     },
     "metadata": {},
     "output_type": "display_data"
    },
    {
     "data": {
      "application/vnd.jupyter.widget-view+json": {
       "model_id": "bb66aac9f9e641c6b20d28ddce74460b",
       "version_major": 2,
       "version_minor": 0
      },
      "text/plain": [
       "HBox(children=(HTML(value='score: 8'), FloatProgress(value=1.0, bar_style='info', layout=Layout(width='20px'),…"
      ]
     },
     "metadata": {},
     "output_type": "display_data"
    },
    {
     "data": {
      "application/vnd.jupyter.widget-view+json": {
       "model_id": "51d6b741a9a44b21b685f4553980f31d",
       "version_major": 2,
       "version_minor": 0
      },
      "text/plain": [
       "HBox(children=(HTML(value='score: 9'), FloatProgress(value=1.0, bar_style='info', layout=Layout(width='20px'),…"
      ]
     },
     "metadata": {},
     "output_type": "display_data"
    },
    {
     "data": {
      "application/vnd.jupyter.widget-view+json": {
       "model_id": "8ee091331bb1421e82df907eb0dd3714",
       "version_major": 2,
       "version_minor": 0
      },
      "text/plain": [
       "HBox(children=(HTML(value='score: 10'), FloatProgress(value=1.0, bar_style='info', layout=Layout(width='20px')…"
      ]
     },
     "metadata": {},
     "output_type": "display_data"
    },
    {
     "data": {
      "application/vnd.jupyter.widget-view+json": {
       "model_id": "4b44c4b7bca14bb3977fee7b196ea4fb",
       "version_major": 2,
       "version_minor": 0
      },
      "text/plain": [
       "HBox(children=(HTML(value='score: 11'), FloatProgress(value=1.0, bar_style='info', layout=Layout(width='20px')…"
      ]
     },
     "metadata": {},
     "output_type": "display_data"
    },
    {
     "data": {
      "application/vnd.jupyter.widget-view+json": {
       "model_id": "18008af588364d129d8b5626c4f2e7be",
       "version_major": 2,
       "version_minor": 0
      },
      "text/plain": [
       "HBox(children=(HTML(value='score: 12'), FloatProgress(value=1.0, bar_style='info', layout=Layout(width='20px')…"
      ]
     },
     "metadata": {},
     "output_type": "display_data"
    },
    {
     "data": {
      "application/vnd.jupyter.widget-view+json": {
       "model_id": "286b1e00fa7644a19e5d010bf175734b",
       "version_major": 2,
       "version_minor": 0
      },
      "text/plain": [
       "HBox(children=(HTML(value='score: 13'), FloatProgress(value=1.0, bar_style='info', layout=Layout(width='20px')…"
      ]
     },
     "metadata": {},
     "output_type": "display_data"
    },
    {
     "data": {
      "application/vnd.jupyter.widget-view+json": {
       "model_id": "9cdbb13935c04693bc00391f307bbbbb",
       "version_major": 2,
       "version_minor": 0
      },
      "text/plain": [
       "HBox(children=(HTML(value='score: 14'), FloatProgress(value=1.0, bar_style='info', layout=Layout(width='20px')…"
      ]
     },
     "metadata": {},
     "output_type": "display_data"
    },
    {
     "data": {
      "application/vnd.jupyter.widget-view+json": {
       "model_id": "56ea84b920de48e395ba447dad33d2de",
       "version_major": 2,
       "version_minor": 0
      },
      "text/plain": [
       "HBox(children=(HTML(value='score: 15'), FloatProgress(value=1.0, bar_style='info', layout=Layout(width='20px')…"
      ]
     },
     "metadata": {},
     "output_type": "display_data"
    },
    {
     "data": {
      "application/vnd.jupyter.widget-view+json": {
       "model_id": "af17b0ab4a8548af86c79a4fb5772a6c",
       "version_major": 2,
       "version_minor": 0
      },
      "text/plain": [
       "HBox(children=(HTML(value='score: 16'), FloatProgress(value=1.0, bar_style='info', layout=Layout(width='20px')…"
      ]
     },
     "metadata": {},
     "output_type": "display_data"
    },
    {
     "data": {
      "application/vnd.jupyter.widget-view+json": {
       "model_id": "e6fcceb7c1f2425e852cd749003be689",
       "version_major": 2,
       "version_minor": 0
      },
      "text/plain": [
       "HBox(children=(HTML(value='score: 17'), FloatProgress(value=1.0, bar_style='info', layout=Layout(width='20px')…"
      ]
     },
     "metadata": {},
     "output_type": "display_data"
    },
    {
     "data": {
      "application/vnd.jupyter.widget-view+json": {
       "model_id": "c7f1f7bc7441485594ba855fc883cac2",
       "version_major": 2,
       "version_minor": 0
      },
      "text/plain": [
       "HBox(children=(HTML(value='score: 18'), FloatProgress(value=1.0, bar_style='info', layout=Layout(width='20px')…"
      ]
     },
     "metadata": {},
     "output_type": "display_data"
    },
    {
     "data": {
      "application/vnd.jupyter.widget-view+json": {
       "model_id": "9028063b66f74a67a75e1267a914b060",
       "version_major": 2,
       "version_minor": 0
      },
      "text/plain": [
       "HBox(children=(HTML(value='score: 19'), FloatProgress(value=1.0, bar_style='info', layout=Layout(width='20px')…"
      ]
     },
     "metadata": {},
     "output_type": "display_data"
    },
    {
     "name": "stdout",
     "output_type": "stream",
     "text": [
      "\n",
      "\n",
      "\n",
      "\n",
      "\n",
      "\n",
      "\n",
      "\n",
      "\n",
      "\n",
      "\n",
      "\n",
      "\n",
      "\n",
      "\n",
      "\n",
      "\n",
      "\n",
      "\n",
      "\n",
      "\n",
      "\n"
     ]
    }
   ],
   "source": [
    "#!g1.1\n",
    "cohort_embs = [[] for i in range(len(model_bank))]\n",
    "for X, y in tqdm(cohort_loader, desc='collect'):\n",
    "    X = X.to(DEVICE); y = y.to(DEVICE);\n",
    "    b, n_per_spk, feat, seq = X.shape\n",
    "    X = X.reshape(b * n_per_spk, feat, seq)\n",
    "    for i, model in enumerate(model_bank):\n",
    "        emb = model(X)\n",
    "        emb = F.normalize(emb, dim=-1)\n",
    "        emb = emb.reshape(b, n_per_spk, emb.shape[-1]).mean(dim=1)\n",
    "        cohort_embs[i].append(emb)\n",
    "        \n",
    "for i in range(len(cohort_embs)):\n",
    "    cohort_embs[i] = torch.cat(cohort_embs[i], dim=0)\n",
    "    cohort_embs[i] = F.normalize(cohort_embs[i], dim=-1)\n",
    "    \n",
    "incohort_mean = [[] for i in range(len(model_bank))]\n",
    "incohort_std = [[] for i in range(len(model_bank))]\n",
    "\n",
    "for NUM in tqdm(range(len(cohort_embs)), desc='score'):\n",
    "    for i, cohort_emb in tqdm(enumerate(cohort_embs[NUM]), desc=f'score: {NUM}'):\n",
    "        incohort_scores = torch.matmul(cohort_embs[NUM], cohort_emb)\n",
    "        incohort_scores = torch.cat([incohort_scores[:i], incohort_scores[i+1:]], dim=0)\n",
    "        incohort_mean[NUM].append(incohort_scores.mean())\n",
    "        incohort_std[NUM].append(incohort_scores.std())\n",
    "    incohort_mean[NUM] = torch.stack(incohort_mean[NUM]).squeeze()\n",
    "    incohort_std[NUM] = torch.stack(incohort_std[NUM]).squeeze()"
   ]
  },
  {
   "cell_type": "code",
   "execution_count": 6,
   "id": "833525c0",
   "metadata": {
    "cellId": "n4tf79sdzds2vfd0lue47t"
   },
   "outputs": [],
   "source": [
    "#!g1.1\n",
    "from datasets import TestDataset\n",
    "\n",
    "test_meta = pd.read_csv(os.path.join(BASE, 'test_meta.tsv'), sep='\\t')\n",
    "test_dataset = TestDataset(test_meta, os.path.join(BASE, 'test_features'))\n",
    "test_loader = DataLoader(test_dataset, batch_size=256, shuffle=False, num_workers=nw, drop_last=False, pin_memory=True)"
   ]
  },
  {
   "cell_type": "code",
   "execution_count": 7,
   "id": "12fdc424",
   "metadata": {
    "cellId": "m3jxiby5nb9mql3tcu70s"
   },
   "outputs": [
    {
     "data": {
      "application/vnd.jupyter.widget-view+json": {
       "model_id": "01af325a10164a14bf51040265dd1d10",
       "version_major": 2,
       "version_minor": 0
      },
      "text/plain": [
       "HBox(children=(HTML(value='test collect'), FloatProgress(value=0.0, max=162.0), HTML(value='')))"
      ]
     },
     "metadata": {},
     "output_type": "display_data"
    }
   ],
   "source": [
    "#!g1.1\n",
    "KNN = 400\n",
    "\n",
    "all_embs = [[] for i in range(len(model_bank))]\n",
    "\n",
    "for X, y in tqdm(test_loader, desc='test collect', leave=False):\n",
    "    n_per_spk = X.shape[1]\n",
    "    X = X.to(DEVICE); y = y.to(DEVICE);\n",
    "    X = X.reshape(X.shape[0] * X.shape[1], X.shape[2], X.shape[3])\n",
    "    for i, model in enumerate(model_bank):\n",
    "        emb = model(X)\n",
    "        emb = emb.reshape(emb.shape[0] // n_per_spk, n_per_spk, -1)\n",
    "        emb = F.normalize(emb, dim=-1).mean(dim=1)\n",
    "        all_embs[i].append(emb)\n",
    "\n",
    "for i in range(len(all_embs)):\n",
    "    all_embs[i] = torch.cat(all_embs[i], dim=0)\n",
    "    all_embs[i] = F.normalize(all_embs[i], dim=-1)\n"
   ]
  },
  {
   "cell_type": "code",
   "execution_count": 8,
   "id": "a682aea6",
   "metadata": {
    "cellId": "uy4g43une2nt1hjr9qq6m"
   },
   "outputs": [
    {
     "data": {
      "application/vnd.jupyter.widget-view+json": {
       "model_id": "b5f4fafb124844b98000efaa543ab260",
       "version_major": 2,
       "version_minor": 0
      },
      "text/plain": [
       "HBox(children=(HTML(value='snorm: 0'), FloatProgress(value=0.0, max=41377.0), HTML(value='')))"
      ]
     },
     "metadata": {},
     "output_type": "display_data"
    },
    {
     "data": {
      "application/vnd.jupyter.widget-view+json": {
       "model_id": "2b8ea651502e491aa2dfa1f73be1831d",
       "version_major": 2,
       "version_minor": 0
      },
      "text/plain": [
       "HBox(children=(HTML(value='snorm: 1'), FloatProgress(value=0.0, max=41377.0), HTML(value='')))"
      ]
     },
     "metadata": {},
     "output_type": "display_data"
    },
    {
     "data": {
      "application/vnd.jupyter.widget-view+json": {
       "model_id": "11ce2e6013c04805a3aa815a464bc876",
       "version_major": 2,
       "version_minor": 0
      },
      "text/plain": [
       "HBox(children=(HTML(value='snorm: 2'), FloatProgress(value=0.0, max=41377.0), HTML(value='')))"
      ]
     },
     "metadata": {},
     "output_type": "display_data"
    },
    {
     "data": {
      "application/vnd.jupyter.widget-view+json": {
       "model_id": "04b3fd99707e401f89ebb0d6ced24df8",
       "version_major": 2,
       "version_minor": 0
      },
      "text/plain": [
       "HBox(children=(HTML(value='snorm: 3'), FloatProgress(value=0.0, max=41377.0), HTML(value='')))"
      ]
     },
     "metadata": {},
     "output_type": "display_data"
    },
    {
     "data": {
      "application/vnd.jupyter.widget-view+json": {
       "model_id": "eb40c416b4814402a01515ef4c869bf7",
       "version_major": 2,
       "version_minor": 0
      },
      "text/plain": [
       "HBox(children=(HTML(value='snorm: 4'), FloatProgress(value=0.0, max=41377.0), HTML(value='')))"
      ]
     },
     "metadata": {},
     "output_type": "display_data"
    },
    {
     "data": {
      "application/vnd.jupyter.widget-view+json": {
       "model_id": "31dd09fc3553480a882fbce10a211886",
       "version_major": 2,
       "version_minor": 0
      },
      "text/plain": [
       "HBox(children=(HTML(value='snorm: 5'), FloatProgress(value=0.0, max=41377.0), HTML(value='')))"
      ]
     },
     "metadata": {},
     "output_type": "display_data"
    },
    {
     "data": {
      "application/vnd.jupyter.widget-view+json": {
       "model_id": "37e4e82446ac4c08857ea7d9f3507922",
       "version_major": 2,
       "version_minor": 0
      },
      "text/plain": [
       "HBox(children=(HTML(value='snorm: 6'), FloatProgress(value=0.0, max=41377.0), HTML(value='')))"
      ]
     },
     "metadata": {},
     "output_type": "display_data"
    },
    {
     "data": {
      "application/vnd.jupyter.widget-view+json": {
       "model_id": "a50ddde007de439395ce42c3442c28d5",
       "version_major": 2,
       "version_minor": 0
      },
      "text/plain": [
       "HBox(children=(HTML(value='snorm: 7'), FloatProgress(value=0.0, max=41377.0), HTML(value='')))"
      ]
     },
     "metadata": {},
     "output_type": "display_data"
    },
    {
     "data": {
      "application/vnd.jupyter.widget-view+json": {
       "model_id": "1804843eabaa4e3c814ef79e0428f026",
       "version_major": 2,
       "version_minor": 0
      },
      "text/plain": [
       "HBox(children=(HTML(value='snorm: 8'), FloatProgress(value=0.0, max=41377.0), HTML(value='')))"
      ]
     },
     "metadata": {},
     "output_type": "display_data"
    },
    {
     "data": {
      "application/vnd.jupyter.widget-view+json": {
       "model_id": "94d378e768384dddb7bb6f937b99c20f",
       "version_major": 2,
       "version_minor": 0
      },
      "text/plain": [
       "HBox(children=(HTML(value='snorm: 9'), FloatProgress(value=0.0, max=41377.0), HTML(value='')))"
      ]
     },
     "metadata": {},
     "output_type": "display_data"
    },
    {
     "data": {
      "application/vnd.jupyter.widget-view+json": {
       "model_id": "66e64e3e50834cbc9e266025d958970e",
       "version_major": 2,
       "version_minor": 0
      },
      "text/plain": [
       "HBox(children=(HTML(value='snorm: 10'), FloatProgress(value=0.0, max=41377.0), HTML(value='')))"
      ]
     },
     "metadata": {},
     "output_type": "display_data"
    },
    {
     "data": {
      "application/vnd.jupyter.widget-view+json": {
       "model_id": "a4322cc7164a4521906c29e90bc217e4",
       "version_major": 2,
       "version_minor": 0
      },
      "text/plain": [
       "HBox(children=(HTML(value='snorm: 11'), FloatProgress(value=0.0, max=41377.0), HTML(value='')))"
      ]
     },
     "metadata": {},
     "output_type": "display_data"
    },
    {
     "data": {
      "application/vnd.jupyter.widget-view+json": {
       "model_id": "c0f671f069474afdb56c68d952478c40",
       "version_major": 2,
       "version_minor": 0
      },
      "text/plain": [
       "HBox(children=(HTML(value='snorm: 12'), FloatProgress(value=0.0, max=41377.0), HTML(value='')))"
      ]
     },
     "metadata": {},
     "output_type": "display_data"
    },
    {
     "data": {
      "application/vnd.jupyter.widget-view+json": {
       "model_id": "bf5e51a5f65c4df5a4719ead8c64bbf2",
       "version_major": 2,
       "version_minor": 0
      },
      "text/plain": [
       "HBox(children=(HTML(value='snorm: 13'), FloatProgress(value=0.0, max=41377.0), HTML(value='')))"
      ]
     },
     "metadata": {},
     "output_type": "display_data"
    },
    {
     "data": {
      "application/vnd.jupyter.widget-view+json": {
       "model_id": "ef452526671344379f416e3d7180116a",
       "version_major": 2,
       "version_minor": 0
      },
      "text/plain": [
       "HBox(children=(HTML(value='snorm: 14'), FloatProgress(value=0.0, max=41377.0), HTML(value='')))"
      ]
     },
     "metadata": {},
     "output_type": "display_data"
    },
    {
     "data": {
      "application/vnd.jupyter.widget-view+json": {
       "model_id": "beeb46713a8f4f75abfd13c960280920",
       "version_major": 2,
       "version_minor": 0
      },
      "text/plain": [
       "HBox(children=(HTML(value='snorm: 15'), FloatProgress(value=0.0, max=41377.0), HTML(value='')))"
      ]
     },
     "metadata": {},
     "output_type": "display_data"
    },
    {
     "data": {
      "application/vnd.jupyter.widget-view+json": {
       "model_id": "982f513921d543e5bc98aa885cca2c9c",
       "version_major": 2,
       "version_minor": 0
      },
      "text/plain": [
       "HBox(children=(HTML(value='snorm: 16'), FloatProgress(value=0.0, max=41377.0), HTML(value='')))"
      ]
     },
     "metadata": {},
     "output_type": "display_data"
    },
    {
     "data": {
      "application/vnd.jupyter.widget-view+json": {
       "model_id": "70b8b6616ceb4dc6b1b61ec23ec06a7d",
       "version_major": 2,
       "version_minor": 0
      },
      "text/plain": [
       "HBox(children=(HTML(value='snorm: 17'), FloatProgress(value=0.0, max=41377.0), HTML(value='')))"
      ]
     },
     "metadata": {},
     "output_type": "display_data"
    },
    {
     "data": {
      "application/vnd.jupyter.widget-view+json": {
       "model_id": "406686d2fb8546e7829aaf2185df8acd",
       "version_major": 2,
       "version_minor": 0
      },
      "text/plain": [
       "HBox(children=(HTML(value='snorm: 18'), FloatProgress(value=0.0, max=41377.0), HTML(value='')))"
      ]
     },
     "metadata": {},
     "output_type": "display_data"
    },
    {
     "data": {
      "application/vnd.jupyter.widget-view+json": {
       "model_id": "e781cca7a4e54845b07b64e2b3a4ed19",
       "version_major": 2,
       "version_minor": 0
      },
      "text/plain": [
       "HBox(children=(HTML(value='snorm: 19'), FloatProgress(value=0.0, max=41377.0), HTML(value='')))"
      ]
     },
     "metadata": {},
     "output_type": "display_data"
    },
    {
     "data": {
      "application/vnd.jupyter.widget-view+json": {
       "model_id": "e9febc5f931443c6a22da03c9e692a7a",
       "version_major": 2,
       "version_minor": 0
      },
      "text/plain": [
       "HBox(children=(HTML(value=''), FloatProgress(value=0.0, max=41377.0), HTML(value='')))"
      ]
     },
     "metadata": {},
     "output_type": "display_data"
    }
   ],
   "source": [
    "#!g1.1\n",
    "snorm_mean = [[] for i in range(len(model_bank))]\n",
    "snorm_std = [[] for i in range(len(model_bank))]\n",
    "nnk_means = [[] for i in range(len(model_bank))]\n",
    "nnk_stds = [[] for i in range(len(model_bank))]\n",
    "\n",
    "for NUM in range(len(all_embs)):\n",
    "    for i, emb in tqdm(enumerate(all_embs[NUM]), total=len(all_embs[NUM]), leave=False, desc=f'snorm: {NUM}'):\n",
    "        cohort_scores = torch.matmul(cohort_embs[NUM], emb)\n",
    "        snorm_mean[NUM].append(cohort_scores.mean())\n",
    "        snorm_std[NUM].append(cohort_scores.std())\n",
    "        nnk = torch.argsort(cohort_scores, descending=True)[:KNN]\n",
    "        sk = (cohort_scores[nnk] - cohort_scores.mean()) / (cohort_scores.std()) + (cohort_scores[nnk] - incohort_mean[NUM][nnk]) / incohort_std[NUM][nnk]\n",
    "        nnk_means[NUM].append(sk.mean())\n",
    "        nnk_stds[NUM].append(sk.std())\n",
    "\n",
    "for i in range(len(snorm_mean)):\n",
    "    snorm_mean[i] = torch.stack(snorm_mean[i]).squeeze()\n",
    "    snorm_std[i] = torch.stack(snorm_std[i]).squeeze()\n",
    "    nnk_means[i] = torch.stack(nnk_means[i]).squeeze()\n",
    "    nnk_stds[i] = torch.stack(nnk_stds[i]).squeeze()\n",
    "    \n",
    "ANS = []\n",
    "for i in tqdm(range(len(all_embs[0])), total=len(all_embs[0]), leave=False):\n",
    "    scores_forthisobj = 0\n",
    "    for j in range(len(all_embs)):\n",
    "        scores_cur = torch.matmul(all_embs[j], all_embs[j][i])\n",
    "        snorm_scores_cur = (scores_cur - snorm_mean[j][i]) / (snorm_std[j][i]) + (scores_cur - snorm_mean[j]) / snorm_std[j]\n",
    "        ckd_scores_cur = (snorm_scores_cur - nnk_means[j][i]) / nnk_stds[j][i] + (snorm_scores_cur - nnk_means[j]) / nnk_stds[j]\n",
    "        snorm_a = 0.3\n",
    "        scores_cur = snorm_a * snorm_scores_cur + (1 - snorm_a) * ckd_scores_cur\n",
    "        assert scores_cur.dim() == 1\n",
    "        scores_cur[i] = -1000\n",
    "        scores_forthisobj = scores_forthisobj + scores_cur\n",
    "        \n",
    "    scores_forthisobj = scores_forthisobj / len(all_embs) #average over models\n",
    "    scores_forthisobj = torch.argsort(scores_forthisobj, descending=True)[:100].cpu().numpy()\n",
    "    ANS.append(scores_forthisobj)\n"
   ]
  },
  {
   "cell_type": "code",
   "execution_count": 9,
   "id": "a1a7f471",
   "metadata": {
    "cellId": "upn0jtjold8hdjsnb081e7"
   },
   "outputs": [
    {
     "data": {
      "application/vnd.jupyter.widget-view+json": {
       "model_id": "14257a5845cb4922b05d7bbdc7182825",
       "version_major": 2,
       "version_minor": 0
      },
      "text/plain": [
       "HBox(children=(HTML(value=''), FloatProgress(value=0.0, max=41377.0), HTML(value='')))"
      ]
     },
     "metadata": {},
     "output_type": "display_data"
    },
    {
     "name": "stdout",
     "output_type": "stream",
     "text": [
      "\n"
     ]
    }
   ],
   "source": [
    "#!g1.1\n",
    "with open('submission_att2net_10fold.txt', 'w') as f:\n",
    "    for i, ans_row in tqdm(enumerate(ANS), total=len(ANS)):\n",
    "        test_row = test_meta.iloc[i]\n",
    "        fstring = str(test_row.trackid) + '\\t' + ' '.join([str(a) for a in list(test_meta.iloc[ans_row].trackid)]) + '\\n'\n",
    "        f.write(fstring)"
   ]
  },
  {
   "cell_type": "code",
   "execution_count": null,
   "id": "aae257f9",
   "metadata": {
    "cellId": "xd3bhq330ym0qgmb2gpuq7h"
   },
   "outputs": [],
   "source": [
    "#!g1.1\n"
   ]
  }
 ],
 "metadata": {
  "kernelspec": {
   "display_name": "Python 3",
   "language": "python",
   "name": "python3"
  },
  "language_info": {
   "codemirror_mode": {
    "name": "ipython",
    "version": 3
   },
   "file_extension": ".py",
   "mimetype": "text/x-python",
   "name": "python",
   "nbconvert_exporter": "python",
   "pygments_lexer": "ipython3",
   "version": "3.6.6"
  },
  "notebookId": "419eb11a-484d-4fd7-a5da-dcd390a0347e",
  "notebookPath": "ensemble.ipynb"
 },
 "nbformat": 4,
 "nbformat_minor": 5
}
