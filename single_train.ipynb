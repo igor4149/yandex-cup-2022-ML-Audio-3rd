{
 "cells": [
  {
   "cell_type": "code",
   "execution_count": 1,
   "id": "5eaafb57",
   "metadata": {
    "cellId": "etwjbmn0ekc7k3mzobiguh"
   },
   "outputs": [],
   "source": [
    "#!g1.1\n",
    "import numpy as np\n",
    "import pandas as pd\n",
    "import os\n",
    "import random\n",
    "from tqdm.auto import tqdm\n",
    "!export CUBLAS_WORKSPACE_CONFIG=':4096:8'"
   ]
  },
  {
   "cell_type": "code",
   "execution_count": 2,
   "id": "5f8b8db0",
   "metadata": {
    "cellId": "buidfva26yqr36jwla0qir"
   },
   "outputs": [],
   "source": [
    "#!g1.1\n",
    "import torch\n",
    "import torch.nn as nn\n",
    "import torch.nn.functional as F\n",
    "import torch.optim as optim\n",
    "DEVICE = 'cuda' if torch.cuda.is_available() else 'cpu'\n",
    "nw = 8\n",
    "\n",
    "def set_seed(seed=777):\n",
    "    torch.backends.cudnn.benchmark = False\n",
    "    torch.backends.cudnn.deterministic = True\n",
    "    torch.use_deterministic_algorithms(True)\n",
    "\n",
    "    random.seed(seed)\n",
    "    np.random.seed(seed)\n",
    "    torch.manual_seed(seed)\n",
    "    torch.cuda.manual_seed_all(seed)\n",
    "    \n",
    "    \n",
    "set_seed() #reproducibility"
   ]
  },
  {
   "cell_type": "code",
   "execution_count": 3,
   "id": "f0d2d471",
   "metadata": {
    "cellId": "w3vuoxf7l5ew0no8wdr50d"
   },
   "outputs": [],
   "source": [
    "#!g1.1\n",
    "FOLD = '9' #this train fold will be used for validation\n",
    "BASE = '/home/jupyter/mnt/datasets/full_dataset/' #path to dataset\n",
    "\n",
    "meta = pd.read_csv(os.path.join(BASE, 'train_meta.tsv'), sep='\\t')\n",
    "val_subset = (meta.archive_features_path.str.split('/').str[0] == FOLD)\n",
    "train_meta = meta[~val_subset]\n",
    "val_meta = meta[val_subset]\n",
    "\n",
    "n_classes = len(meta.artistid.unique()) + 1\n",
    "batch_size = 3000"
   ]
  },
  {
   "cell_type": "code",
   "execution_count": 4,
   "id": "07f7be50",
   "metadata": {
    "cellId": "y0k2w3g4wrkc27jyw6g67i"
   },
   "outputs": [],
   "source": [
    "#!g1.1\n",
    "FOLDS = ['1', '2', '3', '4', '5', '6', '7', '8', '9', '0']"
   ]
  },
  {
   "cell_type": "code",
   "execution_count": 5,
   "id": "54bf080e",
   "metadata": {
    "cellId": "9amnn8qulizxs19umqh3e"
   },
   "outputs": [],
   "source": [
    "#!g1.1\n",
    "from torch.utils.data import Dataset, DataLoader\n",
    "from datasets import ArtistDataset\n",
    "\n",
    "train_dataset = ArtistDataset(train_meta, os.path.join(BASE, 'train_features'), train=True)\n",
    "train_loader = DataLoader(train_dataset, batch_size=batch_size, shuffle=True, num_workers=nw, pin_memory=True, drop_last=True)\n",
    "\n",
    "val_dataset = ArtistDataset(val_meta, os.path.join(BASE, 'train_features'), train=False)\n",
    "val_loader = DataLoader(val_dataset, batch_size=128, shuffle=False, num_workers=nw, drop_last=False, pin_memory=True)"
   ]
  },
  {
   "cell_type": "code",
   "execution_count": 6,
   "id": "e7cf8e52",
   "metadata": {
    "cellId": "fq18n7khvykjzqnbpeyplq"
   },
   "outputs": [],
   "source": [
    "#!g1.1\n",
    "from simple_network import Net\n",
    "model = Net(input_dim=512, emb_dim=1024);"
   ]
  },
  {
   "cell_type": "code",
   "execution_count": 7,
   "id": "7b95e5fb",
   "metadata": {
    "cellId": "bg6ty8m4ldpmy7w47gtx8f"
   },
   "outputs": [
    {
     "name": "stdout",
     "output_type": "stream",
     "text": [
      "Initialised AAMSoftmax margin 0.000 scale 15.000\n"
     ]
    }
   ],
   "source": [
    "#!g1.1\n",
    "from arcface import ArcFace\n",
    "criterion = ArcFace(nOut=1024, nClasses=n_classes, margin=0.0, scale=15)"
   ]
  },
  {
   "cell_type": "code",
   "execution_count": 8,
   "id": "3b6a7e88",
   "metadata": {
    "cellId": "98h6288lrjwqp9nefphqb"
   },
   "outputs": [],
   "source": [
    "#!g1.1\n",
    "def set_margin(step, low=1000, high=4500, low_m=0.0, high_m=0.5): #curriculum learning for arcface - gradually increase margin\n",
    "    if step <= low:\n",
    "        return low_m\n",
    "    elif step >= high:\n",
    "        return high_m\n",
    "    \n",
    "    frac = (step - low) / (high - low)\n",
    "    m = low_m * (1-frac) + high_m * (frac)\n",
    "    return m"
   ]
  },
  {
   "cell_type": "code",
   "execution_count": 9,
   "id": "d8bc9088",
   "metadata": {
    "cellId": "7fofx87tl8gdyzv1vej0o"
   },
   "outputs": [],
   "source": [
    "#!g1.1\n",
    "model.to(DEVICE);\n",
    "criterion.to(DEVICE);\n",
    "model.requires_grad_(True);\n",
    "criterion.requires_grad_(True);"
   ]
  },
  {
   "cell_type": "code",
   "execution_count": 10,
   "id": "b104f5d4",
   "metadata": {
    "cellId": "cywqv7wbljac2aauf3tu1v"
   },
   "outputs": [],
   "source": [
    "#!g1.1\n",
    "n_epochs = 100\n",
    "\n",
    "optimizer = optim.Adam([p for p in model.parameters()] + [p for p in criterion.parameters()], lr=1e-3, weight_decay=1e-4)\n",
    "\n",
    "scheduler = optim.lr_scheduler.OneCycleLR(\n",
    "    optimizer,\n",
    "    max_lr=3e-4,\n",
    "    epochs=n_epochs,\n",
    "    steps_per_epoch=len(train_loader),\n",
    "    pct_start=0.1,\n",
    "    div_factor=10,\n",
    "    final_div_factor=1000,\n",
    ")"
   ]
  },
  {
   "cell_type": "code",
   "execution_count": 11,
   "id": "6f1f1825",
   "metadata": {
    "cellId": "sedfc5gmz0ftu9vw96wa9k",
    "jupyter": {
     "outputs_hidden": true
    },
    "scrolled": true
   },
   "outputs": [
    {
     "data": {
      "application/vnd.jupyter.widget-view+json": {
       "model_id": "7d95030311fa4419b099c5e011cff178",
       "version_major": 2,
       "version_minor": 0
      },
      "text/plain": [
       "HBox(children=(HTML(value=''), FloatProgress(value=0.0, max=16773.0), HTML(value='')))"
      ]
     },
     "metadata": {},
     "output_type": "display_data"
    },
    {
     "data": {
      "application/vnd.jupyter.widget-view+json": {
       "model_id": "1250ec1f4bf248a78b0563e4bfa23368",
       "version_major": 2,
       "version_minor": 0
      },
      "text/plain": [
       "HBox(children=(HTML(value=''), FloatProgress(value=0.0, max=16773.0), HTML(value='')))"
      ]
     },
     "metadata": {},
     "output_type": "display_data"
    },
    {
     "data": {
      "application/vnd.jupyter.widget-view+json": {
       "model_id": "ed938177d7824d05bc997ce1a7760cba",
       "version_major": 2,
       "version_minor": 0
      },
      "text/plain": [
       "HBox(children=(HTML(value=''), FloatProgress(value=0.0, max=16773.0), HTML(value='')))"
      ]
     },
     "metadata": {},
     "output_type": "display_data"
    },
    {
     "data": {
      "application/vnd.jupyter.widget-view+json": {
       "model_id": "44f84701751344928166651dbe94e845",
       "version_major": 2,
       "version_minor": 0
      },
      "text/plain": [
       "HBox(children=(HTML(value=''), FloatProgress(value=0.0, max=16773.0), HTML(value='')))"
      ]
     },
     "metadata": {},
     "output_type": "display_data"
    },
    {
     "data": {
      "application/vnd.jupyter.widget-view+json": {
       "model_id": "f53f2f062b1448a49d86cd6d3dde232b",
       "version_major": 2,
       "version_minor": 0
      },
      "text/plain": [
       "HBox(children=(HTML(value=''), FloatProgress(value=0.0, max=16773.0), HTML(value='')))"
      ]
     },
     "metadata": {},
     "output_type": "display_data"
    },
    {
     "data": {
      "application/vnd.jupyter.widget-view+json": {
       "model_id": "628506e09ebe424bb4b25d735ea419c6",
       "version_major": 2,
       "version_minor": 0
      },
      "text/plain": [
       "HBox(children=(HTML(value=''), FloatProgress(value=0.0, max=16773.0), HTML(value='')))"
      ]
     },
     "metadata": {},
     "output_type": "display_data"
    },
    {
     "data": {
      "application/vnd.jupyter.widget-view+json": {
       "model_id": "5e3ac559fe4d4bf88470700cc42e4156",
       "version_major": 2,
       "version_minor": 0
      },
      "text/plain": [
       "HBox(children=(HTML(value=''), FloatProgress(value=0.0, max=16773.0), HTML(value='')))"
      ]
     },
     "metadata": {},
     "output_type": "display_data"
    },
    {
     "data": {
      "application/vnd.jupyter.widget-view+json": {
       "model_id": "4123882d83d243c3861cc2bac83c32bb",
       "version_major": 2,
       "version_minor": 0
      },
      "text/plain": [
       "HBox(children=(HTML(value=''), FloatProgress(value=0.0, max=16773.0), HTML(value='')))"
      ]
     },
     "metadata": {},
     "output_type": "display_data"
    },
    {
     "data": {
      "application/vnd.jupyter.widget-view+json": {
       "model_id": "d83d129d785a4302b438838c2ff6cce7",
       "version_major": 2,
       "version_minor": 0
      },
      "text/plain": [
       "HBox(children=(HTML(value=''), FloatProgress(value=0.0, max=16773.0), HTML(value='')))"
      ]
     },
     "metadata": {},
     "output_type": "display_data"
    },
    {
     "data": {
      "application/vnd.jupyter.widget-view+json": {
       "model_id": "da0ba4f2eab74ef89a03308c018a13bd",
       "version_major": 2,
       "version_minor": 0
      },
      "text/plain": [
       "HBox(children=(HTML(value=''), FloatProgress(value=0.0, max=16773.0), HTML(value='')))"
      ]
     },
     "metadata": {},
     "output_type": "display_data"
    },
    {
     "data": {
      "application/vnd.jupyter.widget-view+json": {
       "model_id": "7d9914c67f1a4ce3a33f76c6dcb98840",
       "version_major": 2,
       "version_minor": 0
      },
      "text/plain": [
       "HBox(children=(HTML(value=''), FloatProgress(value=0.0, max=16773.0), HTML(value='')))"
      ]
     },
     "metadata": {},
     "output_type": "display_data"
    },
    {
     "data": {
      "application/vnd.jupyter.widget-view+json": {
       "model_id": "d83061b57c9c4e9b926e328269836273",
       "version_major": 2,
       "version_minor": 0
      },
      "text/plain": [
       "HBox(children=(HTML(value=''), FloatProgress(value=0.0, max=16773.0), HTML(value='')))"
      ]
     },
     "metadata": {},
     "output_type": "display_data"
    },
    {
     "data": {
      "application/vnd.jupyter.widget-view+json": {
       "model_id": "12c8666e10cb4e488a1e681721ad28a4",
       "version_major": 2,
       "version_minor": 0
      },
      "text/plain": [
       "HBox(children=(HTML(value=''), FloatProgress(value=0.0, max=16773.0), HTML(value='')))"
      ]
     },
     "metadata": {},
     "output_type": "display_data"
    },
    {
     "data": {
      "application/vnd.jupyter.widget-view+json": {
       "model_id": "bd9a6597f4ab4ffeab3e8cc5b7c32dbc",
       "version_major": 2,
       "version_minor": 0
      },
      "text/plain": [
       "HBox(children=(HTML(value=''), FloatProgress(value=0.0, max=16773.0), HTML(value='')))"
      ]
     },
     "metadata": {},
     "output_type": "display_data"
    },
    {
     "data": {
      "application/vnd.jupyter.widget-view+json": {
       "model_id": "db9ca2a200894d4496a9c6b404ebbe5f",
       "version_major": 2,
       "version_minor": 0
      },
      "text/plain": [
       "HBox(children=(HTML(value=''), FloatProgress(value=0.0, max=16773.0), HTML(value='')))"
      ]
     },
     "metadata": {},
     "output_type": "display_data"
    },
    {
     "name": "stderr",
     "output_type": "stream",
     "text": [
      "\r"
     ]
    },
    {
     "data": {
      "application/vnd.jupyter.widget-view+json": {
       "model_id": "ca44c96e4fc042fbaa6e3f81dc4d4143",
       "version_major": 2,
       "version_minor": 0
      },
      "text/plain": [
       "HBox(children=(HTML(value=''), FloatProgress(value=0.0, max=16773.0), HTML(value='')))"
      ]
     },
     "metadata": {},
     "output_type": "display_data"
    },
    {
     "name": "stdout",
     "output_type": "stream",
     "text": [
      "Train loss: 9.7385, train acc: 0.0400\n",
      "----------------------------------------\n",
      "Train loss: 9.1923, train acc: 0.4653\n",
      "----------------------------------------\n",
      "Train loss: 8.5340, train acc: 2.3893\n",
      "----------------------------------------\n",
      "Train loss: 7.7344, train acc: 7.7420\n",
      "----------------------------------------\n",
      "Train loss: 6.8525, train acc: 17.1667\n",
      "----------------------------------------\n",
      "Train loss: 5.9623, train acc: 29.6400\n",
      "----------------------------------------\n",
      "Train loss: 5.1394, train acc: 42.0267\n",
      "----------------------------------------\n",
      "Train loss: 4.4191, train acc: 53.0293\n",
      "----------------------------------------\n",
      "Train loss: 3.8282, train acc: 61.6687\n",
      "----------------------------------------\n",
      "Train loss: 3.3728, train acc: 68.2020\n",
      "----------------------------------------\n",
      "Train loss: 3.0307, train acc: 73.0820\n",
      "----------------------------------------\n",
      "Train loss: 2.7859, train acc: 76.3960\n",
      "----------------------------------------\n",
      "Train loss: 2.6026, train acc: 78.7387\n",
      "----------------------------------------\n",
      "Train loss: 2.4613, train acc: 80.8047\n",
      "----------------------------------------\n",
      "Train loss: 2.3534, train acc: 82.2187\n",
      "----------------------------------------\n",
      "Train loss: 2.2712, train acc: 83.2813\n",
      "----------------------------------------\n",
      "Train loss: 2.1953, train acc: 84.3520\n",
      "----------------------------------------\n",
      "Train loss: 2.1381, train acc: 85.1033\n",
      "----------------------------------------\n",
      "Train loss: 2.0809, train acc: 86.0160\n",
      "----------------------------------------\n",
      "Train loss: 2.0353, train acc: 86.5627\n",
      "----------------------------------------\n",
      "Train loss: 1.9954, train acc: 87.1987\n",
      "Epoch: 21/100, Val nDCG: 0.53536\n",
      "----------------------------------------\n",
      "Train loss: 1.9550, train acc: 87.6727\n",
      "Epoch: 22/100, Val nDCG: 0.53523\n",
      "----------------------------------------\n",
      "Train loss: 1.9231, train acc: 87.9813\n",
      "Epoch: 23/100, Val nDCG: 0.53689\n",
      "----------------------------------------\n",
      "Train loss: 1.8883, train acc: 88.4580\n",
      "Epoch: 24/100, Val nDCG: 0.53925\n",
      "----------------------------------------\n",
      "Train loss: 1.8487, train acc: 89.0153\n",
      "Epoch: 25/100, Val nDCG: 0.54003\n",
      "----------------------------------------\n",
      "Train loss: 1.8182, train acc: 89.3047\n",
      "Epoch: 26/100, Val nDCG: 0.54089\n",
      "----------------------------------------\n",
      "Train loss: 1.7848, train acc: 89.8060\n",
      "Epoch: 27/100, Val nDCG: 0.54171\n",
      "----------------------------------------\n",
      "Train loss: 1.7578, train acc: 90.1147\n",
      "Epoch: 28/100, Val nDCG: 0.54242\n",
      "----------------------------------------\n",
      "Train loss: 1.7298, train acc: 90.4947\n",
      "Epoch: 29/100, Val nDCG: 0.54284\n",
      "----------------------------------------\n",
      "Train loss: 1.7010, train acc: 90.8873\n",
      "Epoch: 30/100, Val nDCG: 0.54168\n",
      "----------------------------------------\n",
      "Train loss: 1.6783, train acc: 91.1373\n",
      "Epoch: 31/100, Val nDCG: 0.54339\n",
      "----------------------------------------\n",
      "Train loss: 1.6510, train acc: 91.4733\n",
      "Epoch: 32/100, Val nDCG: 0.54365\n",
      "----------------------------------------\n",
      "Train loss: 1.6279, train acc: 91.7793\n",
      "Epoch: 33/100, Val nDCG: 0.54423\n",
      "----------------------------------------\n",
      "Train loss: 1.6009, train acc: 92.1553\n",
      "Epoch: 34/100, Val nDCG: 0.54358\n",
      "----------------------------------------\n",
      "Train loss: 1.5757, train acc: 92.4313\n",
      "Epoch: 35/100, Val nDCG: 0.54268\n",
      "----------------------------------------\n",
      "Train loss: 1.5597, train acc: 92.6613\n",
      "Epoch: 36/100, Val nDCG: 0.54405\n",
      "----------------------------------------\n"
     ]
    }
   ],
   "source": [
    "#!g1.1\n",
    "from compute_score import eval_submission\n",
    "STEP = 0\n",
    "last_ndcg = 0.52 #initial threshold for checkpoint saving\n",
    "last_fname = None\n",
    "for EPOCH in range(n_epochs):\n",
    "    model.train()\n",
    "    train_loss = []\n",
    "    train_acc = []\n",
    "    for X, y in tqdm(train_loader, desc=f'Train epoch {EPOCH+1}/{n_epochs}', leave=False):\n",
    "        optimizer.zero_grad()\n",
    "        \n",
    "        X = X.to(DEVICE); y = y.to(DEVICE);\n",
    "        emb = model(X)\n",
    "        cur_loss, cur_acc = criterion(emb, y)\n",
    "        cur_loss.backward()\n",
    "        optimizer.step()\n",
    "        \n",
    "        train_loss.append(cur_loss.item())\n",
    "        train_acc.append(cur_acc.item())\n",
    "        \n",
    "        scheduler.step()\n",
    "        STEP += 1\n",
    "        new_marg = set_margin(STEP)\n",
    "        criterion.m = new_marg\n",
    "                \n",
    "    print(f'Train loss: {np.mean(train_loss):.4f}, train acc: {np.mean(train_acc):.4f}')\n",
    "    \n",
    "    model.eval()\n",
    "    if EPOCH > 19:\n",
    "        with torch.no_grad():\n",
    "            all_embs = []\n",
    "            for X, y in tqdm(val_loader, desc=f'Val epoch {EPOCH+1}/{n_epochs}', leave=False):\n",
    "                X = X.to(DEVICE); y = y.to(DEVICE);\n",
    "                X = X[:, 0, :, :] #discard TTA - 1st object is original sample\n",
    "                emb = model(X)\n",
    "                all_embs.append(emb)\n",
    "\n",
    "            all_embs = torch.cat(all_embs, dim=0)\n",
    "            all_embs = F.normalize(all_embs, dim=-1)\n",
    "            ans = []\n",
    "            for i, emb in enumerate(all_embs):\n",
    "                scores = torch.matmul(all_embs, emb)\n",
    "                assert scores.dim() == 1\n",
    "                scores[i] = -10\n",
    "                scores = torch.argsort(scores, descending=True)[:100].cpu().numpy() #top-100 candidates\n",
    "                ans.append(scores)\n",
    "            ans_dict = {val_meta.iloc[i].trackid: list(val_meta.iloc[row].trackid) for i, row in enumerate(ans)} #convert indices to IDs\n",
    "            ndcg = eval_submission(ans_dict, val_meta, 100)\n",
    "            print(f'Epoch: {EPOCH+1}/{n_epochs}, Val nDCG: {ndcg:.5f}')\n",
    "\n",
    "            if ndcg > last_ndcg:\n",
    "                last_ndcg = ndcg\n",
    "                last_fname = f'att2net_fold_{FOLD}_{EPOCH}_epoch_{ndcg:.5f}_ndcg.pth'\n",
    "                torch.save(model.state_dict(), last_fname)\n",
    "\n",
    "    print('-'*40)\n",
    "    if EPOCH == 35: #empirically, this is enough for convergence\n",
    "        break"
   ]
  },
  {
   "cell_type": "code",
   "execution_count": 12,
   "id": "2b4eb33b",
   "metadata": {
    "cellId": "7tpdy65pcvetqvsi91rmcj"
   },
   "outputs": [
    {
     "data": {
      "application/vnd.jupyter.widget-view+json": {
       "model_id": "629a4a8ba7f84ce791b8bcc39c5ea715",
       "version_major": 2,
       "version_minor": 0
      },
      "text/plain": [
       "HBox(children=(HTML(value=''), FloatProgress(value=0.0, max=16773.0), HTML(value='')))"
      ]
     },
     "metadata": {},
     "output_type": "display_data"
    },
    {
     "data": {
      "application/vnd.jupyter.widget-view+json": {
       "model_id": "bf9756234dce4f0b9b6f488693b1623c",
       "version_major": 2,
       "version_minor": 0
      },
      "text/plain": [
       "HBox(children=(HTML(value=''), FloatProgress(value=0.0, max=16773.0), HTML(value='')))"
      ]
     },
     "metadata": {},
     "output_type": "display_data"
    },
    {
     "data": {
      "application/vnd.jupyter.widget-view+json": {
       "model_id": "ee1a8d74d3aa4238a87df8dc387f25dc",
       "version_major": 2,
       "version_minor": 0
      },
      "text/plain": [
       "HBox(children=(HTML(value=''), FloatProgress(value=0.0, max=16773.0), HTML(value='')))"
      ]
     },
     "metadata": {},
     "output_type": "display_data"
    },
    {
     "data": {
      "application/vnd.jupyter.widget-view+json": {
       "model_id": "7a02969b928b425e8df0a9f94064a05c",
       "version_major": 2,
       "version_minor": 0
      },
      "text/plain": [
       "HBox(children=(HTML(value=''), FloatProgress(value=0.0, max=16773.0), HTML(value='')))"
      ]
     },
     "metadata": {},
     "output_type": "display_data"
    },
    {
     "name": "stdout",
     "output_type": "stream",
     "text": [
      "Epoch: 1/5, Val nDCG: 0.54599\n",
      "----------------------------------------\n",
      "Epoch: 2/5, Val nDCG: 0.54650\n",
      "----------------------------------------\n",
      "Epoch: 3/5, Val nDCG: 0.54667\n",
      "----------------------------------------\n",
      "Epoch: 4/5, Val nDCG: 0.54697\n",
      "----------------------------------------\n"
     ]
    },
    {
     "name": "stderr",
     "output_type": "stream",
     "text": [
      "\r"
     ]
    },
    {
     "ename": "KeyboardInterrupt",
     "evalue": "",
     "output_type": "error",
     "traceback": [
      "\u001b[0;31m---------------------------------------------------------------------------\u001b[0m",
      "\u001b[0;31mKeyboardInterrupt\u001b[0m                         Traceback (most recent call last)",
      "\u001b[0;32m<ipython-input-12-163a92d5386c>\u001b[0m in \u001b[0;36m<module>\u001b[0;34m\u001b[0m\n\u001b[1;32m    118\u001b[0m \u001b[0;32mfor\u001b[0m \u001b[0mEPOCH\u001b[0m \u001b[0;32min\u001b[0m \u001b[0mrange\u001b[0m\u001b[0;34m(\u001b[0m\u001b[0mn_epochs\u001b[0m\u001b[0;34m)\u001b[0m\u001b[0;34m:\u001b[0m\u001b[0;34m\u001b[0m\u001b[0;34m\u001b[0m\u001b[0m\n\u001b[1;32m    119\u001b[0m     \u001b[0mmodel\u001b[0m\u001b[0;34m.\u001b[0m\u001b[0mtrain\u001b[0m\u001b[0;34m(\u001b[0m\u001b[0;34m)\u001b[0m\u001b[0;34m\u001b[0m\u001b[0;34m\u001b[0m\u001b[0m\n\u001b[0;32m--> 120\u001b[0;31m     \u001b[0;32mfor\u001b[0m \u001b[0mX\u001b[0m\u001b[0;34m,\u001b[0m \u001b[0my\u001b[0m \u001b[0;32min\u001b[0m \u001b[0mtqdm\u001b[0m\u001b[0;34m(\u001b[0m\u001b[0mtrain_loader\u001b[0m\u001b[0;34m,\u001b[0m \u001b[0mdesc\u001b[0m\u001b[0;34m=\u001b[0m\u001b[0;34mf'Train epoch {EPOCH+1}/{n_epochs}'\u001b[0m\u001b[0;34m,\u001b[0m \u001b[0mleave\u001b[0m\u001b[0;34m=\u001b[0m\u001b[0;32mFalse\u001b[0m\u001b[0;34m)\u001b[0m\u001b[0;34m:\u001b[0m\u001b[0;34m\u001b[0m\u001b[0;34m\u001b[0m\u001b[0m\n\u001b[0m\u001b[1;32m    121\u001b[0m         \u001b[0moptimizer\u001b[0m\u001b[0;34m.\u001b[0m\u001b[0mzero_grad\u001b[0m\u001b[0;34m(\u001b[0m\u001b[0;34m)\u001b[0m\u001b[0;34m\u001b[0m\u001b[0;34m\u001b[0m\u001b[0m\n\u001b[1;32m    122\u001b[0m         \u001b[0mX\u001b[0m \u001b[0;34m=\u001b[0m \u001b[0mX\u001b[0m\u001b[0;34m.\u001b[0m\u001b[0mto\u001b[0m\u001b[0;34m(\u001b[0m\u001b[0mDEVICE\u001b[0m\u001b[0;34m)\u001b[0m\u001b[0;34m;\u001b[0m \u001b[0my\u001b[0m \u001b[0;34m=\u001b[0m \u001b[0my\u001b[0m\u001b[0;34m.\u001b[0m\u001b[0mto\u001b[0m\u001b[0;34m(\u001b[0m\u001b[0mDEVICE\u001b[0m\u001b[0;34m)\u001b[0m\u001b[0;34m;\u001b[0m\u001b[0;34m\u001b[0m\u001b[0;34m\u001b[0m\u001b[0m\n",
      "\u001b[0;32m/usr/local/lib/python3.8/dist-packages/tqdm/std.py\u001b[0m in \u001b[0;36m__iter__\u001b[0;34m(self)\u001b[0m\n\u001b[1;32m   1172\u001b[0m \u001b[0;34m\u001b[0m\u001b[0m\n\u001b[1;32m   1173\u001b[0m         \u001b[0;32mtry\u001b[0m\u001b[0;34m:\u001b[0m\u001b[0;34m\u001b[0m\u001b[0;34m\u001b[0m\u001b[0m\n\u001b[0;32m-> 1174\u001b[0;31m             \u001b[0;32mfor\u001b[0m \u001b[0mobj\u001b[0m \u001b[0;32min\u001b[0m \u001b[0miterable\u001b[0m\u001b[0;34m:\u001b[0m\u001b[0;34m\u001b[0m\u001b[0;34m\u001b[0m\u001b[0m\n\u001b[0m\u001b[1;32m   1175\u001b[0m                 \u001b[0;32myield\u001b[0m \u001b[0mobj\u001b[0m\u001b[0;34m\u001b[0m\u001b[0;34m\u001b[0m\u001b[0m\n\u001b[1;32m   1176\u001b[0m                 \u001b[0;31m# Update and possibly print the progressbar.\u001b[0m\u001b[0;34m\u001b[0m\u001b[0;34m\u001b[0m\u001b[0;34m\u001b[0m\u001b[0m\n",
      "\u001b[0;32m/usr/local/lib/python3.8/dist-packages/torch/utils/data/dataloader.py\u001b[0m in \u001b[0;36m__iter__\u001b[0;34m(self)\u001b[0m\n\u001b[1;32m    357\u001b[0m             \u001b[0;32mreturn\u001b[0m \u001b[0mself\u001b[0m\u001b[0;34m.\u001b[0m\u001b[0m_iterator\u001b[0m\u001b[0;34m\u001b[0m\u001b[0;34m\u001b[0m\u001b[0m\n\u001b[1;32m    358\u001b[0m         \u001b[0;32melse\u001b[0m\u001b[0;34m:\u001b[0m\u001b[0;34m\u001b[0m\u001b[0;34m\u001b[0m\u001b[0m\n\u001b[0;32m--> 359\u001b[0;31m             \u001b[0;32mreturn\u001b[0m \u001b[0mself\u001b[0m\u001b[0;34m.\u001b[0m\u001b[0m_get_iterator\u001b[0m\u001b[0;34m(\u001b[0m\u001b[0;34m)\u001b[0m\u001b[0;34m\u001b[0m\u001b[0;34m\u001b[0m\u001b[0m\n\u001b[0m\u001b[1;32m    360\u001b[0m \u001b[0;34m\u001b[0m\u001b[0m\n\u001b[1;32m    361\u001b[0m     \u001b[0;34m@\u001b[0m\u001b[0mproperty\u001b[0m\u001b[0;34m\u001b[0m\u001b[0;34m\u001b[0m\u001b[0m\n",
      "\u001b[0;32m/usr/local/lib/python3.8/dist-packages/torch/utils/data/dataloader.py\u001b[0m in \u001b[0;36m_get_iterator\u001b[0;34m(self)\u001b[0m\n\u001b[1;32m    303\u001b[0m         \u001b[0;32melse\u001b[0m\u001b[0;34m:\u001b[0m\u001b[0;34m\u001b[0m\u001b[0;34m\u001b[0m\u001b[0m\n\u001b[1;32m    304\u001b[0m             \u001b[0mself\u001b[0m\u001b[0;34m.\u001b[0m\u001b[0mcheck_worker_number_rationality\u001b[0m\u001b[0;34m(\u001b[0m\u001b[0;34m)\u001b[0m\u001b[0;34m\u001b[0m\u001b[0;34m\u001b[0m\u001b[0m\n\u001b[0;32m--> 305\u001b[0;31m             \u001b[0;32mreturn\u001b[0m \u001b[0m_MultiProcessingDataLoaderIter\u001b[0m\u001b[0;34m(\u001b[0m\u001b[0mself\u001b[0m\u001b[0;34m)\u001b[0m\u001b[0;34m\u001b[0m\u001b[0;34m\u001b[0m\u001b[0m\n\u001b[0m\u001b[1;32m    306\u001b[0m \u001b[0;34m\u001b[0m\u001b[0m\n\u001b[1;32m    307\u001b[0m     \u001b[0;34m@\u001b[0m\u001b[0mproperty\u001b[0m\u001b[0;34m\u001b[0m\u001b[0;34m\u001b[0m\u001b[0m\n",
      "\u001b[0;32m/usr/local/lib/python3.8/dist-packages/torch/utils/data/dataloader.py\u001b[0m in \u001b[0;36m__init__\u001b[0;34m(self, loader)\u001b[0m\n\u001b[1;32m    942\u001b[0m         \u001b[0m_utils\u001b[0m\u001b[0;34m.\u001b[0m\u001b[0msignal_handling\u001b[0m\u001b[0;34m.\u001b[0m\u001b[0m_set_SIGCHLD_handler\u001b[0m\u001b[0;34m(\u001b[0m\u001b[0;34m)\u001b[0m\u001b[0;34m\u001b[0m\u001b[0;34m\u001b[0m\u001b[0m\n\u001b[1;32m    943\u001b[0m         \u001b[0mself\u001b[0m\u001b[0;34m.\u001b[0m\u001b[0m_worker_pids_set\u001b[0m \u001b[0;34m=\u001b[0m \u001b[0;32mTrue\u001b[0m\u001b[0;34m\u001b[0m\u001b[0;34m\u001b[0m\u001b[0m\n\u001b[0;32m--> 944\u001b[0;31m         \u001b[0mself\u001b[0m\u001b[0;34m.\u001b[0m\u001b[0m_reset\u001b[0m\u001b[0;34m(\u001b[0m\u001b[0mloader\u001b[0m\u001b[0;34m,\u001b[0m \u001b[0mfirst_iter\u001b[0m\u001b[0;34m=\u001b[0m\u001b[0;32mTrue\u001b[0m\u001b[0;34m)\u001b[0m\u001b[0;34m\u001b[0m\u001b[0;34m\u001b[0m\u001b[0m\n\u001b[0m\u001b[1;32m    945\u001b[0m \u001b[0;34m\u001b[0m\u001b[0m\n\u001b[1;32m    946\u001b[0m     \u001b[0;32mdef\u001b[0m \u001b[0m_reset\u001b[0m\u001b[0;34m(\u001b[0m\u001b[0mself\u001b[0m\u001b[0;34m,\u001b[0m \u001b[0mloader\u001b[0m\u001b[0;34m,\u001b[0m \u001b[0mfirst_iter\u001b[0m\u001b[0;34m=\u001b[0m\u001b[0;32mFalse\u001b[0m\u001b[0;34m)\u001b[0m\u001b[0;34m:\u001b[0m\u001b[0;34m\u001b[0m\u001b[0;34m\u001b[0m\u001b[0m\n",
      "\u001b[0;32m/usr/local/lib/python3.8/dist-packages/torch/utils/data/dataloader.py\u001b[0m in \u001b[0;36m_reset\u001b[0;34m(self, loader, first_iter)\u001b[0m\n\u001b[1;32m    973\u001b[0m         \u001b[0;31m# prime the prefetch loop\u001b[0m\u001b[0;34m\u001b[0m\u001b[0;34m\u001b[0m\u001b[0;34m\u001b[0m\u001b[0m\n\u001b[1;32m    974\u001b[0m         \u001b[0;32mfor\u001b[0m \u001b[0m_\u001b[0m \u001b[0;32min\u001b[0m \u001b[0mrange\u001b[0m\u001b[0;34m(\u001b[0m\u001b[0mself\u001b[0m\u001b[0;34m.\u001b[0m\u001b[0m_prefetch_factor\u001b[0m \u001b[0;34m*\u001b[0m \u001b[0mself\u001b[0m\u001b[0;34m.\u001b[0m\u001b[0m_num_workers\u001b[0m\u001b[0;34m)\u001b[0m\u001b[0;34m:\u001b[0m\u001b[0;34m\u001b[0m\u001b[0;34m\u001b[0m\u001b[0m\n\u001b[0;32m--> 975\u001b[0;31m             \u001b[0mself\u001b[0m\u001b[0;34m.\u001b[0m\u001b[0m_try_put_index\u001b[0m\u001b[0;34m(\u001b[0m\u001b[0;34m)\u001b[0m\u001b[0;34m\u001b[0m\u001b[0;34m\u001b[0m\u001b[0m\n\u001b[0m\u001b[1;32m    976\u001b[0m \u001b[0;34m\u001b[0m\u001b[0m\n\u001b[1;32m    977\u001b[0m     \u001b[0;32mdef\u001b[0m \u001b[0m_try_get_data\u001b[0m\u001b[0;34m(\u001b[0m\u001b[0mself\u001b[0m\u001b[0;34m,\u001b[0m \u001b[0mtimeout\u001b[0m\u001b[0;34m=\u001b[0m\u001b[0m_utils\u001b[0m\u001b[0;34m.\u001b[0m\u001b[0mMP_STATUS_CHECK_INTERVAL\u001b[0m\u001b[0;34m)\u001b[0m\u001b[0;34m:\u001b[0m\u001b[0;34m\u001b[0m\u001b[0;34m\u001b[0m\u001b[0m\n",
      "\u001b[0;32m/usr/local/lib/python3.8/dist-packages/torch/utils/data/dataloader.py\u001b[0m in \u001b[0;36m_try_put_index\u001b[0;34m(self)\u001b[0m\n\u001b[1;32m   1207\u001b[0m \u001b[0;34m\u001b[0m\u001b[0m\n\u001b[1;32m   1208\u001b[0m         \u001b[0;32mtry\u001b[0m\u001b[0;34m:\u001b[0m\u001b[0;34m\u001b[0m\u001b[0;34m\u001b[0m\u001b[0m\n\u001b[0;32m-> 1209\u001b[0;31m             \u001b[0mindex\u001b[0m \u001b[0;34m=\u001b[0m \u001b[0mself\u001b[0m\u001b[0;34m.\u001b[0m\u001b[0m_next_index\u001b[0m\u001b[0;34m(\u001b[0m\u001b[0;34m)\u001b[0m\u001b[0;34m\u001b[0m\u001b[0;34m\u001b[0m\u001b[0m\n\u001b[0m\u001b[1;32m   1210\u001b[0m         \u001b[0;32mexcept\u001b[0m \u001b[0mStopIteration\u001b[0m\u001b[0;34m:\u001b[0m\u001b[0;34m\u001b[0m\u001b[0;34m\u001b[0m\u001b[0m\n\u001b[1;32m   1211\u001b[0m             \u001b[0;32mreturn\u001b[0m\u001b[0;34m\u001b[0m\u001b[0;34m\u001b[0m\u001b[0m\n",
      "\u001b[0;32m/usr/local/lib/python3.8/dist-packages/torch/utils/data/dataloader.py\u001b[0m in \u001b[0;36m_next_index\u001b[0;34m(self)\u001b[0m\n\u001b[1;32m    510\u001b[0m \u001b[0;34m\u001b[0m\u001b[0m\n\u001b[1;32m    511\u001b[0m     \u001b[0;32mdef\u001b[0m \u001b[0m_next_index\u001b[0m\u001b[0;34m(\u001b[0m\u001b[0mself\u001b[0m\u001b[0;34m)\u001b[0m\u001b[0;34m:\u001b[0m\u001b[0;34m\u001b[0m\u001b[0;34m\u001b[0m\u001b[0m\n\u001b[0;32m--> 512\u001b[0;31m         \u001b[0;32mreturn\u001b[0m \u001b[0mnext\u001b[0m\u001b[0;34m(\u001b[0m\u001b[0mself\u001b[0m\u001b[0;34m.\u001b[0m\u001b[0m_sampler_iter\u001b[0m\u001b[0;34m)\u001b[0m  \u001b[0;31m# may raise StopIteration\u001b[0m\u001b[0;34m\u001b[0m\u001b[0;34m\u001b[0m\u001b[0m\n\u001b[0m\u001b[1;32m    513\u001b[0m \u001b[0;34m\u001b[0m\u001b[0m\n\u001b[1;32m    514\u001b[0m     \u001b[0;32mdef\u001b[0m \u001b[0m_next_data\u001b[0m\u001b[0;34m(\u001b[0m\u001b[0mself\u001b[0m\u001b[0;34m)\u001b[0m\u001b[0;34m:\u001b[0m\u001b[0;34m\u001b[0m\u001b[0;34m\u001b[0m\u001b[0m\n",
      "\u001b[0;32m/usr/local/lib/python3.8/dist-packages/torch/utils/data/sampler.py\u001b[0m in \u001b[0;36m__iter__\u001b[0;34m(self)\u001b[0m\n\u001b[1;32m    224\u001b[0m     \u001b[0;32mdef\u001b[0m \u001b[0m__iter__\u001b[0m\u001b[0;34m(\u001b[0m\u001b[0mself\u001b[0m\u001b[0;34m)\u001b[0m \u001b[0;34m->\u001b[0m \u001b[0mIterator\u001b[0m\u001b[0;34m[\u001b[0m\u001b[0mList\u001b[0m\u001b[0;34m[\u001b[0m\u001b[0mint\u001b[0m\u001b[0;34m]\u001b[0m\u001b[0;34m]\u001b[0m\u001b[0;34m:\u001b[0m\u001b[0;34m\u001b[0m\u001b[0;34m\u001b[0m\u001b[0m\n\u001b[1;32m    225\u001b[0m         \u001b[0mbatch\u001b[0m \u001b[0;34m=\u001b[0m \u001b[0;34m[\u001b[0m\u001b[0;34m]\u001b[0m\u001b[0;34m\u001b[0m\u001b[0;34m\u001b[0m\u001b[0m\n\u001b[0;32m--> 226\u001b[0;31m         \u001b[0;32mfor\u001b[0m \u001b[0midx\u001b[0m \u001b[0;32min\u001b[0m \u001b[0mself\u001b[0m\u001b[0;34m.\u001b[0m\u001b[0msampler\u001b[0m\u001b[0;34m:\u001b[0m\u001b[0;34m\u001b[0m\u001b[0;34m\u001b[0m\u001b[0m\n\u001b[0m\u001b[1;32m    227\u001b[0m             \u001b[0mbatch\u001b[0m\u001b[0;34m.\u001b[0m\u001b[0mappend\u001b[0m\u001b[0;34m(\u001b[0m\u001b[0midx\u001b[0m\u001b[0;34m)\u001b[0m\u001b[0;34m\u001b[0m\u001b[0;34m\u001b[0m\u001b[0m\n\u001b[1;32m    228\u001b[0m             \u001b[0;32mif\u001b[0m \u001b[0mlen\u001b[0m\u001b[0;34m(\u001b[0m\u001b[0mbatch\u001b[0m\u001b[0;34m)\u001b[0m \u001b[0;34m==\u001b[0m \u001b[0mself\u001b[0m\u001b[0;34m.\u001b[0m\u001b[0mbatch_size\u001b[0m\u001b[0;34m:\u001b[0m\u001b[0;34m\u001b[0m\u001b[0;34m\u001b[0m\u001b[0m\n",
      "\u001b[0;32m<ipython-input-12-163a92d5386c>\u001b[0m in \u001b[0;36m__iter__\u001b[0;34m(self)\u001b[0m\n\u001b[1;32m     22\u001b[0m         \u001b[0mdata_dict\u001b[0m \u001b[0;34m=\u001b[0m \u001b[0;34m{\u001b[0m\u001b[0;34m}\u001b[0m\u001b[0;34m\u001b[0m\u001b[0;34m\u001b[0m\u001b[0m\n\u001b[1;32m     23\u001b[0m         \u001b[0;32mfor\u001b[0m \u001b[0mindex\u001b[0m \u001b[0;32min\u001b[0m \u001b[0mindices\u001b[0m\u001b[0;34m:\u001b[0m\u001b[0;34m\u001b[0m\u001b[0;34m\u001b[0m\u001b[0m\n\u001b[0;32m---> 24\u001b[0;31m             \u001b[0maid\u001b[0m \u001b[0;34m=\u001b[0m \u001b[0mself\u001b[0m\u001b[0;34m.\u001b[0m\u001b[0mdataset\u001b[0m\u001b[0;34m.\u001b[0m\u001b[0mmeta\u001b[0m\u001b[0;34m.\u001b[0m\u001b[0miloc\u001b[0m\u001b[0;34m[\u001b[0m\u001b[0mindex\u001b[0m\u001b[0;34m]\u001b[0m\u001b[0;34m.\u001b[0m\u001b[0martistid\u001b[0m\u001b[0;34m\u001b[0m\u001b[0;34m\u001b[0m\u001b[0m\n\u001b[0m\u001b[1;32m     25\u001b[0m             \u001b[0mspeaker_label\u001b[0m \u001b[0;34m=\u001b[0m \u001b[0mself\u001b[0m\u001b[0;34m.\u001b[0m\u001b[0mdataset\u001b[0m\u001b[0;34m.\u001b[0m\u001b[0maid2class\u001b[0m\u001b[0;34m[\u001b[0m\u001b[0maid\u001b[0m\u001b[0;34m]\u001b[0m\u001b[0;34m\u001b[0m\u001b[0;34m\u001b[0m\u001b[0m\n\u001b[1;32m     26\u001b[0m             \u001b[0;32mif\u001b[0m \u001b[0;32mnot\u001b[0m \u001b[0;34m(\u001b[0m\u001b[0mspeaker_label\u001b[0m \u001b[0;32min\u001b[0m \u001b[0mdata_dict\u001b[0m\u001b[0;34m)\u001b[0m\u001b[0;34m:\u001b[0m\u001b[0;34m\u001b[0m\u001b[0;34m\u001b[0m\u001b[0m\n",
      "\u001b[0;32m/usr/local/lib/python3.8/dist-packages/pandas/core/indexing.py\u001b[0m in \u001b[0;36m__getitem__\u001b[0;34m(self, key)\u001b[0m\n\u001b[1;32m   1422\u001b[0m \u001b[0;34m\u001b[0m\u001b[0m\n\u001b[1;32m   1423\u001b[0m             \u001b[0mmaybe_callable\u001b[0m \u001b[0;34m=\u001b[0m \u001b[0mcom\u001b[0m\u001b[0;34m.\u001b[0m\u001b[0mapply_if_callable\u001b[0m\u001b[0;34m(\u001b[0m\u001b[0mkey\u001b[0m\u001b[0;34m,\u001b[0m \u001b[0mself\u001b[0m\u001b[0;34m.\u001b[0m\u001b[0mobj\u001b[0m\u001b[0;34m)\u001b[0m\u001b[0;34m\u001b[0m\u001b[0;34m\u001b[0m\u001b[0m\n\u001b[0;32m-> 1424\u001b[0;31m             \u001b[0;32mreturn\u001b[0m \u001b[0mself\u001b[0m\u001b[0;34m.\u001b[0m\u001b[0m_getitem_axis\u001b[0m\u001b[0;34m(\u001b[0m\u001b[0mmaybe_callable\u001b[0m\u001b[0;34m,\u001b[0m \u001b[0maxis\u001b[0m\u001b[0;34m=\u001b[0m\u001b[0maxis\u001b[0m\u001b[0;34m)\u001b[0m\u001b[0;34m\u001b[0m\u001b[0;34m\u001b[0m\u001b[0m\n\u001b[0m\u001b[1;32m   1425\u001b[0m \u001b[0;34m\u001b[0m\u001b[0m\n\u001b[1;32m   1426\u001b[0m     \u001b[0;32mdef\u001b[0m \u001b[0m_is_scalar_access\u001b[0m\u001b[0;34m(\u001b[0m\u001b[0mself\u001b[0m\u001b[0;34m,\u001b[0m \u001b[0mkey\u001b[0m\u001b[0;34m:\u001b[0m \u001b[0mTuple\u001b[0m\u001b[0;34m)\u001b[0m\u001b[0;34m:\u001b[0m\u001b[0;34m\u001b[0m\u001b[0;34m\u001b[0m\u001b[0m\n",
      "\u001b[0;32m/usr/local/lib/python3.8/dist-packages/pandas/core/indexing.py\u001b[0m in \u001b[0;36m_getitem_axis\u001b[0;34m(self, key, axis)\u001b[0m\n\u001b[1;32m   2157\u001b[0m             \u001b[0mself\u001b[0m\u001b[0;34m.\u001b[0m\u001b[0m_validate_integer\u001b[0m\u001b[0;34m(\u001b[0m\u001b[0mkey\u001b[0m\u001b[0;34m,\u001b[0m \u001b[0maxis\u001b[0m\u001b[0;34m)\u001b[0m\u001b[0;34m\u001b[0m\u001b[0;34m\u001b[0m\u001b[0m\n\u001b[1;32m   2158\u001b[0m \u001b[0;34m\u001b[0m\u001b[0m\n\u001b[0;32m-> 2159\u001b[0;31m             \u001b[0;32mreturn\u001b[0m \u001b[0mself\u001b[0m\u001b[0;34m.\u001b[0m\u001b[0m_get_loc\u001b[0m\u001b[0;34m(\u001b[0m\u001b[0mkey\u001b[0m\u001b[0;34m,\u001b[0m \u001b[0maxis\u001b[0m\u001b[0;34m=\u001b[0m\u001b[0maxis\u001b[0m\u001b[0;34m)\u001b[0m\u001b[0;34m\u001b[0m\u001b[0;34m\u001b[0m\u001b[0m\n\u001b[0m\u001b[1;32m   2160\u001b[0m \u001b[0;34m\u001b[0m\u001b[0m\n\u001b[1;32m   2161\u001b[0m     \u001b[0;31m# raise_missing is included for compat with the parent class signature\u001b[0m\u001b[0;34m\u001b[0m\u001b[0;34m\u001b[0m\u001b[0;34m\u001b[0m\u001b[0m\n",
      "\u001b[0;32m/usr/local/lib/python3.8/dist-packages/pandas/core/indexing.py\u001b[0m in \u001b[0;36m_get_loc\u001b[0;34m(self, key, axis)\u001b[0m\n\u001b[1;32m    161\u001b[0m \u001b[0;34m\u001b[0m\u001b[0m\n\u001b[1;32m    162\u001b[0m     \u001b[0;32mdef\u001b[0m \u001b[0m_get_loc\u001b[0m\u001b[0;34m(\u001b[0m\u001b[0mself\u001b[0m\u001b[0;34m,\u001b[0m \u001b[0mkey\u001b[0m\u001b[0;34m:\u001b[0m \u001b[0mint\u001b[0m\u001b[0;34m,\u001b[0m \u001b[0maxis\u001b[0m\u001b[0;34m:\u001b[0m \u001b[0mint\u001b[0m\u001b[0;34m)\u001b[0m\u001b[0;34m:\u001b[0m\u001b[0;34m\u001b[0m\u001b[0;34m\u001b[0m\u001b[0m\n\u001b[0;32m--> 163\u001b[0;31m         \u001b[0;32mreturn\u001b[0m \u001b[0mself\u001b[0m\u001b[0;34m.\u001b[0m\u001b[0mobj\u001b[0m\u001b[0;34m.\u001b[0m\u001b[0m_ixs\u001b[0m\u001b[0;34m(\u001b[0m\u001b[0mkey\u001b[0m\u001b[0;34m,\u001b[0m \u001b[0maxis\u001b[0m\u001b[0;34m=\u001b[0m\u001b[0maxis\u001b[0m\u001b[0;34m)\u001b[0m\u001b[0;34m\u001b[0m\u001b[0;34m\u001b[0m\u001b[0m\n\u001b[0m\u001b[1;32m    164\u001b[0m \u001b[0;34m\u001b[0m\u001b[0m\n\u001b[1;32m    165\u001b[0m     \u001b[0;32mdef\u001b[0m \u001b[0m_slice\u001b[0m\u001b[0;34m(\u001b[0m\u001b[0mself\u001b[0m\u001b[0;34m,\u001b[0m \u001b[0mobj\u001b[0m\u001b[0;34m,\u001b[0m \u001b[0maxis\u001b[0m\u001b[0;34m:\u001b[0m \u001b[0mint\u001b[0m\u001b[0;34m,\u001b[0m \u001b[0mkind\u001b[0m\u001b[0;34m=\u001b[0m\u001b[0;32mNone\u001b[0m\u001b[0;34m)\u001b[0m\u001b[0;34m:\u001b[0m\u001b[0;34m\u001b[0m\u001b[0;34m\u001b[0m\u001b[0m\n",
      "\u001b[0;32m/usr/local/lib/python3.8/dist-packages/pandas/core/frame.py\u001b[0m in \u001b[0;36m_ixs\u001b[0;34m(self, i, axis)\u001b[0m\n\u001b[1;32m   2934\u001b[0m             \u001b[0;31m# if we are a copy, mark as such\u001b[0m\u001b[0;34m\u001b[0m\u001b[0;34m\u001b[0m\u001b[0;34m\u001b[0m\u001b[0m\n\u001b[1;32m   2935\u001b[0m             \u001b[0mcopy\u001b[0m \u001b[0;34m=\u001b[0m \u001b[0misinstance\u001b[0m\u001b[0;34m(\u001b[0m\u001b[0mnew_values\u001b[0m\u001b[0;34m,\u001b[0m \u001b[0mnp\u001b[0m\u001b[0;34m.\u001b[0m\u001b[0mndarray\u001b[0m\u001b[0;34m)\u001b[0m \u001b[0;32mand\u001b[0m \u001b[0mnew_values\u001b[0m\u001b[0;34m.\u001b[0m\u001b[0mbase\u001b[0m \u001b[0;32mis\u001b[0m \u001b[0;32mNone\u001b[0m\u001b[0;34m\u001b[0m\u001b[0;34m\u001b[0m\u001b[0m\n\u001b[0;32m-> 2936\u001b[0;31m             result = self._constructor_sliced(\n\u001b[0m\u001b[1;32m   2937\u001b[0m                 \u001b[0mnew_values\u001b[0m\u001b[0;34m,\u001b[0m\u001b[0;34m\u001b[0m\u001b[0;34m\u001b[0m\u001b[0m\n\u001b[1;32m   2938\u001b[0m                 \u001b[0mindex\u001b[0m\u001b[0;34m=\u001b[0m\u001b[0mself\u001b[0m\u001b[0;34m.\u001b[0m\u001b[0mcolumns\u001b[0m\u001b[0;34m,\u001b[0m\u001b[0;34m\u001b[0m\u001b[0;34m\u001b[0m\u001b[0m\n",
      "\u001b[0;32m/usr/local/lib/python3.8/dist-packages/pandas/core/series.py\u001b[0m in \u001b[0;36m__init__\u001b[0;34m(self, data, index, dtype, name, copy, fastpath)\u001b[0m\n\u001b[1;32m    312\u001b[0m                     \u001b[0mdata\u001b[0m \u001b[0;34m=\u001b[0m \u001b[0mdata\u001b[0m\u001b[0;34m.\u001b[0m\u001b[0mcopy\u001b[0m\u001b[0;34m(\u001b[0m\u001b[0;34m)\u001b[0m\u001b[0;34m\u001b[0m\u001b[0;34m\u001b[0m\u001b[0m\n\u001b[1;32m    313\u001b[0m             \u001b[0;32melse\u001b[0m\u001b[0;34m:\u001b[0m\u001b[0;34m\u001b[0m\u001b[0;34m\u001b[0m\u001b[0m\n\u001b[0;32m--> 314\u001b[0;31m                 \u001b[0mdata\u001b[0m \u001b[0;34m=\u001b[0m \u001b[0msanitize_array\u001b[0m\u001b[0;34m(\u001b[0m\u001b[0mdata\u001b[0m\u001b[0;34m,\u001b[0m \u001b[0mindex\u001b[0m\u001b[0;34m,\u001b[0m \u001b[0mdtype\u001b[0m\u001b[0;34m,\u001b[0m \u001b[0mcopy\u001b[0m\u001b[0;34m,\u001b[0m \u001b[0mraise_cast_failure\u001b[0m\u001b[0;34m=\u001b[0m\u001b[0;32mTrue\u001b[0m\u001b[0;34m)\u001b[0m\u001b[0;34m\u001b[0m\u001b[0;34m\u001b[0m\u001b[0m\n\u001b[0m\u001b[1;32m    315\u001b[0m \u001b[0;34m\u001b[0m\u001b[0m\n\u001b[1;32m    316\u001b[0m                 \u001b[0mdata\u001b[0m \u001b[0;34m=\u001b[0m \u001b[0mSingleBlockManager\u001b[0m\u001b[0;34m(\u001b[0m\u001b[0mdata\u001b[0m\u001b[0;34m,\u001b[0m \u001b[0mindex\u001b[0m\u001b[0;34m,\u001b[0m \u001b[0mfastpath\u001b[0m\u001b[0;34m=\u001b[0m\u001b[0;32mTrue\u001b[0m\u001b[0;34m)\u001b[0m\u001b[0;34m\u001b[0m\u001b[0;34m\u001b[0m\u001b[0m\n",
      "\u001b[0;32m/usr/local/lib/python3.8/dist-packages/pandas/core/internals/construction.py\u001b[0m in \u001b[0;36msanitize_array\u001b[0;34m(data, index, dtype, copy, raise_cast_failure)\u001b[0m\n\u001b[1;32m    662\u001b[0m         \u001b[0;32melse\u001b[0m\u001b[0;34m:\u001b[0m\u001b[0;34m\u001b[0m\u001b[0;34m\u001b[0m\u001b[0m\n\u001b[1;32m    663\u001b[0m             \u001b[0;31m# we will try to copy be-definition here\u001b[0m\u001b[0;34m\u001b[0m\u001b[0;34m\u001b[0m\u001b[0;34m\u001b[0m\u001b[0m\n\u001b[0;32m--> 664\u001b[0;31m             \u001b[0msubarr\u001b[0m \u001b[0;34m=\u001b[0m \u001b[0m_try_cast\u001b[0m\u001b[0;34m(\u001b[0m\u001b[0mdata\u001b[0m\u001b[0;34m,\u001b[0m \u001b[0mdtype\u001b[0m\u001b[0;34m,\u001b[0m \u001b[0mcopy\u001b[0m\u001b[0;34m,\u001b[0m \u001b[0mraise_cast_failure\u001b[0m\u001b[0;34m)\u001b[0m\u001b[0;34m\u001b[0m\u001b[0;34m\u001b[0m\u001b[0m\n\u001b[0m\u001b[1;32m    665\u001b[0m \u001b[0;34m\u001b[0m\u001b[0m\n\u001b[1;32m    666\u001b[0m     \u001b[0;32melif\u001b[0m \u001b[0misinstance\u001b[0m\u001b[0;34m(\u001b[0m\u001b[0mdata\u001b[0m\u001b[0;34m,\u001b[0m \u001b[0mExtensionArray\u001b[0m\u001b[0;34m)\u001b[0m\u001b[0;34m:\u001b[0m\u001b[0;34m\u001b[0m\u001b[0;34m\u001b[0m\u001b[0m\n",
      "\u001b[0;32m/usr/local/lib/python3.8/dist-packages/pandas/core/internals/construction.py\u001b[0m in \u001b[0;36m_try_cast\u001b[0;34m(arr, dtype, copy, raise_cast_failure)\u001b[0m\n\u001b[1;32m    790\u001b[0m         ):\n\u001b[1;32m    791\u001b[0m             \u001b[0msubarr\u001b[0m \u001b[0;34m=\u001b[0m \u001b[0mconstruct_1d_object_array_from_listlike\u001b[0m\u001b[0;34m(\u001b[0m\u001b[0msubarr\u001b[0m\u001b[0;34m)\u001b[0m\u001b[0;34m\u001b[0m\u001b[0;34m\u001b[0m\u001b[0m\n\u001b[0;32m--> 792\u001b[0;31m         \u001b[0;32melif\u001b[0m \u001b[0;32mnot\u001b[0m \u001b[0mis_extension_type\u001b[0m\u001b[0;34m(\u001b[0m\u001b[0msubarr\u001b[0m\u001b[0;34m)\u001b[0m\u001b[0;34m:\u001b[0m\u001b[0;34m\u001b[0m\u001b[0;34m\u001b[0m\u001b[0m\n\u001b[0m\u001b[1;32m    793\u001b[0m             \u001b[0msubarr\u001b[0m \u001b[0;34m=\u001b[0m \u001b[0mconstruct_1d_ndarray_preserving_na\u001b[0m\u001b[0;34m(\u001b[0m\u001b[0msubarr\u001b[0m\u001b[0;34m,\u001b[0m \u001b[0mdtype\u001b[0m\u001b[0;34m,\u001b[0m \u001b[0mcopy\u001b[0m\u001b[0;34m=\u001b[0m\u001b[0mcopy\u001b[0m\u001b[0;34m)\u001b[0m\u001b[0;34m\u001b[0m\u001b[0;34m\u001b[0m\u001b[0m\n\u001b[1;32m    794\u001b[0m     \u001b[0;32mexcept\u001b[0m \u001b[0mOutOfBoundsDatetime\u001b[0m\u001b[0;34m:\u001b[0m\u001b[0;34m\u001b[0m\u001b[0;34m\u001b[0m\u001b[0m\n",
      "\u001b[0;32m/usr/local/lib/python3.8/dist-packages/pandas/core/dtypes/common.py\u001b[0m in \u001b[0;36mis_extension_type\u001b[0;34m(arr)\u001b[0m\n\u001b[1;32m   1734\u001b[0m     \u001b[0;32mif\u001b[0m \u001b[0mis_categorical\u001b[0m\u001b[0;34m(\u001b[0m\u001b[0marr\u001b[0m\u001b[0;34m)\u001b[0m\u001b[0;34m:\u001b[0m\u001b[0;34m\u001b[0m\u001b[0;34m\u001b[0m\u001b[0m\n\u001b[1;32m   1735\u001b[0m         \u001b[0;32mreturn\u001b[0m \u001b[0;32mTrue\u001b[0m\u001b[0;34m\u001b[0m\u001b[0;34m\u001b[0m\u001b[0m\n\u001b[0;32m-> 1736\u001b[0;31m     \u001b[0;32melif\u001b[0m \u001b[0mis_sparse\u001b[0m\u001b[0;34m(\u001b[0m\u001b[0marr\u001b[0m\u001b[0;34m)\u001b[0m\u001b[0;34m:\u001b[0m\u001b[0;34m\u001b[0m\u001b[0;34m\u001b[0m\u001b[0m\n\u001b[0m\u001b[1;32m   1737\u001b[0m         \u001b[0;32mreturn\u001b[0m \u001b[0;32mTrue\u001b[0m\u001b[0;34m\u001b[0m\u001b[0;34m\u001b[0m\u001b[0m\n\u001b[1;32m   1738\u001b[0m     \u001b[0;32melif\u001b[0m \u001b[0mis_datetime64tz_dtype\u001b[0m\u001b[0;34m(\u001b[0m\u001b[0marr\u001b[0m\u001b[0;34m)\u001b[0m\u001b[0;34m:\u001b[0m\u001b[0;34m\u001b[0m\u001b[0;34m\u001b[0m\u001b[0m\n",
      "\u001b[0;32m/usr/local/lib/python3.8/dist-packages/pandas/core/dtypes/common.py\u001b[0m in \u001b[0;36mis_sparse\u001b[0;34m(arr)\u001b[0m\n\u001b[1;32m    312\u001b[0m \u001b[0;34m\u001b[0m\u001b[0m\n\u001b[1;32m    313\u001b[0m     \u001b[0mdtype\u001b[0m \u001b[0;34m=\u001b[0m \u001b[0mgetattr\u001b[0m\u001b[0;34m(\u001b[0m\u001b[0marr\u001b[0m\u001b[0;34m,\u001b[0m \u001b[0;34m\"dtype\"\u001b[0m\u001b[0;34m,\u001b[0m \u001b[0marr\u001b[0m\u001b[0;34m)\u001b[0m\u001b[0;34m\u001b[0m\u001b[0;34m\u001b[0m\u001b[0m\n\u001b[0;32m--> 314\u001b[0;31m     \u001b[0;32mreturn\u001b[0m \u001b[0misinstance\u001b[0m\u001b[0;34m(\u001b[0m\u001b[0mdtype\u001b[0m\u001b[0;34m,\u001b[0m \u001b[0mSparseDtype\u001b[0m\u001b[0;34m)\u001b[0m\u001b[0;34m\u001b[0m\u001b[0;34m\u001b[0m\u001b[0m\n\u001b[0m\u001b[1;32m    315\u001b[0m \u001b[0;34m\u001b[0m\u001b[0m\n\u001b[1;32m    316\u001b[0m \u001b[0;34m\u001b[0m\u001b[0m\n",
      "\u001b[0;31mKeyboardInterrupt\u001b[0m: "
     ]
    }
   ],
   "source": [
    "#!g1.1\n",
    "#STEP2 fine-tune with SmoothAP\n",
    "from torch.utils.data import Sampler\n",
    "from datasets import ArtistMultiDataset, ArtistSampler\n",
    "\n",
    "model.load_state_dict(torch.load(last_fname))\n",
    "\n",
    "        \n",
    "train_dataset = ArtistMultiDataset(train_meta, os.path.join(BASE, 'train_features'), train=True)\n",
    "train_sampler = ArtistSampler(train_dataset, 3, 100, 280); next(iter(train_sampler))\n",
    "train_loader = DataLoader(train_dataset, batch_size=280, num_workers=nw, pin_memory=True, drop_last=True, sampler=train_sampler)\n",
    "\n",
    "val_dataset = ArtistDataset(val_meta, os.path.join(BASE, 'train_features'), train=False)\n",
    "val_loader = DataLoader(val_dataset, batch_size=128, shuffle=False, num_workers=nw, drop_last=False, pin_memory=True)\n",
    "\n",
    "from smoothap import SmoothAP\n",
    "sap = SmoothAP(anneal=0.02, batch_size=280*3, num_id=280, feat_dims=1024)\n",
    "\n",
    "n_epochs = 5\n",
    "optimizer = optim.Adam(model.parameters(), lr=3e-6, weight_decay=1e-5)\n",
    "\n",
    "for EPOCH in range(n_epochs):\n",
    "    model.train()\n",
    "    for X, y in tqdm(train_loader, desc=f'Train epoch {EPOCH+1}/{n_epochs}', leave=False):\n",
    "        optimizer.zero_grad()\n",
    "        X = X.to(DEVICE); y = y.to(DEVICE);\n",
    "        X = X.reshape(X.shape[0] * X.shape[1], X.shape[2], X.shape[3])\n",
    "        y = y.reshape(y.shape[0] * y.shape[1])\n",
    "        emb = model(X)\n",
    "        sapl = sap(emb)\n",
    "        cur_loss = sapl\n",
    "        cur_loss.backward()\n",
    "        optimizer.step()        \n",
    "            \n",
    "    model.eval()\n",
    "    with torch.no_grad():\n",
    "        all_embs = []\n",
    "        for X, y in tqdm(val_loader, desc=f'Val epoch {EPOCH+1}/{n_epochs}', leave=False):\n",
    "            X = X.to(DEVICE); y = y.to(DEVICE);\n",
    "            emb = model(X)\n",
    "            all_embs.append(emb)\n",
    "\n",
    "        all_embs = torch.cat(all_embs, dim=0)\n",
    "        all_embs = F.normalize(all_embs, dim=-1)\n",
    "        ans = []\n",
    "        for i, emb in enumerate(all_embs):\n",
    "            scores = torch.matmul(all_embs, emb)\n",
    "            assert scores.dim() == 1\n",
    "            scores[i] = -10\n",
    "            scores = torch.argsort(scores, descending=True)[:100].cpu().numpy()\n",
    "            ans.append(scores)\n",
    "        ans_dict = {val_meta.iloc[i].trackid: list(val_meta.iloc[row].trackid) for i, row in enumerate(ans)}\n",
    "        ndcg = eval_submission(ans_dict, val_meta, 100)\n",
    "        print(f'Epoch: {EPOCH+1}/{n_epochs}, Val nDCG: {ndcg:.5f}')\n",
    "\n",
    "        if ndcg > last_ndcg:\n",
    "            last_ndcg = ndcg\n",
    "            last_fname = f'att2net_step2_fold_{FOLD}_{EPOCH}_epoch_{ndcg:.5f}_ndcg.pth'\n",
    "            torch.save(model.state_dict(), last_fname)\n",
    "\n",
    "    print('-'*40)"
   ]
  },
  {
   "cell_type": "code",
   "execution_count": 10,
   "id": "631bfbe6",
   "metadata": {
    "cellId": "u9lnhffc0wn39w7a2zfntm"
   },
   "outputs": [],
   "source": [
    "#!g1.1\n",
    "model.load_state_dict(torch.load(last_fname))\n",
    "model.eval();"
   ]
  },
  {
   "cell_type": "code",
   "execution_count": 11,
   "id": "5044ccd7",
   "metadata": {
    "cellId": "fgmigowwl5i80a3eycww8b"
   },
   "outputs": [
    {
     "name": "stderr",
     "output_type": "stream",
     "text": [
      "\r"
     ]
    },
    {
     "data": {
      "application/vnd.jupyter.widget-view+json": {
       "model_id": "ef1a583cf71c4323ae166ab448706894",
       "version_major": 2,
       "version_minor": 0
      },
      "text/plain": [
       "HBox(children=(HTML(value=''), FloatProgress(value=0.0, max=16748.0), HTML(value='')))"
      ]
     },
     "metadata": {},
     "output_type": "display_data"
    },
    {
     "name": "stdout",
     "output_type": "stream",
     "text": [
      "Val nDCG: 0.54124\n"
     ]
    }
   ],
   "source": [
    "#!g1.1\n",
    "#default evaluation\n",
    "\n",
    "from compute_score import eval_submission\n",
    "model.eval()\n",
    "with torch.no_grad():\n",
    "    all_embs = []\n",
    "    for X, y in tqdm(val_loader, desc=f'Val epoch', leave=False):\n",
    "        n_per_spk = X.shape[1]\n",
    "        X = X.to(DEVICE); y = y.to(DEVICE);\n",
    "        X = X.reshape(X.shape[0] * X.shape[1], X.shape[2], X.shape[3])\n",
    "        emb = model(X)\n",
    "        emb = emb.reshape(emb.shape[0] // n_per_spk, n_per_spk, -1)\n",
    "        emb = F.normalize(emb, dim=-1).mean(dim=1)\n",
    "        all_embs.append(emb)\n",
    "\n",
    "    all_embs = torch.cat(all_embs, dim=0)\n",
    "    all_embs = F.normalize(all_embs, dim=-1)\n",
    "    ans = []\n",
    "    for i, emb in tqdm(enumerate(all_embs), leave=False):\n",
    "        scores = torch.matmul(all_embs, emb)\n",
    "        assert scores.dim() == 1\n",
    "        scores[i] = -10\n",
    "        scores = torch.argsort(scores, descending=True)[:100].cpu().numpy()\n",
    "        ans.append(scores)\n",
    "    ans_dict = {val_meta.iloc[i].trackid: list(val_meta.iloc[row].trackid) for i, row in tqdm(enumerate(ans), leave=False)}\n",
    "    ndcg = eval_submission(ans_dict, val_meta, 100)\n",
    "    print(f'Val nDCG: {ndcg:.5f}')"
   ]
  },
  {
   "cell_type": "code",
   "execution_count": 12,
   "id": "3533d4df",
   "metadata": {
    "cellId": "llh5rm7bz4dqph7cib1rk"
   },
   "outputs": [],
   "source": [
    "#!g1.1\n",
    "#ASNorm evaluation\n",
    "model.eval()\n",
    "cohort_size = 10000\n",
    "counts = train_meta.groupby('artistid').count()\n",
    "cohort_idx = np.random.permutation(counts[counts.trackid == 10].index.values)[:cohort_size] #cohort of impostors indices"
   ]
  },
  {
   "cell_type": "code",
   "execution_count": 13,
   "id": "b483f01d",
   "metadata": {
    "cellId": "5a5y84297enxa8maq2bf8"
   },
   "outputs": [],
   "source": [
    "#!g1.1\n",
    "from datasets import CohortDataset    \n",
    "\n",
    "cohort_dataset = CohortDataset(train_meta, os.path.join(BASE, 'train_features'), cohort_idx)\n",
    "cohort_loader = DataLoader(cohort_dataset, batch_size=64, shuffle=False, num_workers=nw, pin_memory=True, drop_last=False)"
   ]
  },
  {
   "cell_type": "code",
   "execution_count": 14,
   "id": "6616ae45",
   "metadata": {
    "cellId": "ad52elu7dbpmyw5pxwgirj"
   },
   "outputs": [
    {
     "name": "stderr",
     "output_type": "stream",
     "text": [
      "100%|██████████| 157/157 [00:19<00:00,  8.14it/s]\n"
     ]
    }
   ],
   "source": [
    "#!g1.1\n",
    "with torch.no_grad():\n",
    "    cohort_embs = []\n",
    "    for X, y in tqdm(cohort_loader):\n",
    "        X = X.to(DEVICE); y = y.to(DEVICE);\n",
    "        b, n_per_spk, feat, seq = X.shape\n",
    "        X = X.reshape(b * n_per_spk, feat, seq)\n",
    "        emb = model(X)\n",
    "        emb = F.normalize(emb, dim=-1)\n",
    "        emb = emb.reshape(b, n_per_spk, emb.shape[-1]).mean(dim=1) #mean emb for impostors\n",
    "        cohort_embs.append(emb)\n",
    "    cohort_embs = torch.cat(cohort_embs, dim=0)\n",
    "    cohort_embs = F.normalize(cohort_embs, dim=-1)"
   ]
  },
  {
   "cell_type": "code",
   "execution_count": 15,
   "id": "32a1a854",
   "metadata": {
    "cellId": "s7dctdufjce74lot2h9lyr"
   },
   "outputs": [
    {
     "name": "stderr",
     "output_type": "stream",
     "text": [
      "10000it [00:00, 10608.27it/s]\n"
     ]
    }
   ],
   "source": [
    "#!g1.1\n",
    "#mean and std for each impostor against impostors\n",
    "incohort_mean = []\n",
    "incohort_std = []\n",
    "for i, cohort_emb in tqdm(enumerate(cohort_embs)):\n",
    "    incohort_scores = torch.matmul(cohort_embs, cohort_emb)\n",
    "    incohort_scores = torch.cat([incohort_scores[:i], incohort_scores[i+1:]], dim=0)\n",
    "    incohort_mean.append(incohort_scores.mean())\n",
    "    incohort_std.append(incohort_scores.std())\n",
    "incohort_mean = torch.stack(incohort_mean).squeeze()\n",
    "incohort_std = torch.stack(incohort_std).squeeze()"
   ]
  },
  {
   "cell_type": "code",
   "execution_count": 16,
   "id": "4fc6d9bd",
   "metadata": {
    "cellId": "idbao88qqwilzhhvgzmw"
   },
   "outputs": [
    {
     "name": "stderr",
     "output_type": "stream",
     "text": [
      "16748it [00:10, 1543.18it/s]\n"
     ]
    },
    {
     "data": {
      "application/vnd.jupyter.widget-view+json": {
       "model_id": "afd1a200ed014c20a9369b98ae71f477",
       "version_major": 2,
       "version_minor": 0
      },
      "text/plain": [
       "HBox(children=(HTML(value=''), FloatProgress(value=0.0, max=16748.0), HTML(value='')))"
      ]
     },
     "metadata": {},
     "output_type": "display_data"
    },
    {
     "data": {
      "text/plain": [
       "0.546785666077093"
      ]
     },
     "execution_count": 16,
     "metadata": {},
     "output_type": "execute_result"
    }
   ],
   "source": [
    "#!g1.1\n",
    "\n",
    "from compute_score import eval_submission\n",
    "KNN = 400\n",
    "model.eval()\n",
    "with torch.no_grad():\n",
    "    all_embs = []\n",
    "    for X, y in tqdm(val_loader, desc='val', leave=False):\n",
    "        n_per_spk = X.shape[1]\n",
    "        X = X.to(DEVICE); y = y.to(DEVICE);\n",
    "        X = X.reshape(X.shape[0] * X.shape[1], X.shape[2], X.shape[3])\n",
    "        emb = model(X)\n",
    "        emb = emb.reshape(emb.shape[0] // n_per_spk, n_per_spk, -1)\n",
    "        emb = F.normalize(emb, dim=-1).mean(dim=1)\n",
    "        all_embs.append(emb)\n",
    "        \n",
    "    all_embs = torch.cat(all_embs, dim=0)\n",
    "    all_embs = F.normalize(all_embs, dim=-1)\n",
    "    snorm_mean = []\n",
    "    snorm_std = [] #mean and std for each record against cohort\n",
    "    nnk_means = []\n",
    "    nnk_stds = []\n",
    "    for i, emb in tqdm(enumerate(all_embs), total=len(all_embs), leave=False):\n",
    "        cohort_scores = torch.matmul(cohort_embs, emb)\n",
    "        snorm_mean.append(cohort_scores.mean())\n",
    "        snorm_std.append(cohort_scores.std()) #s-norm\n",
    "        nnk = torch.argsort(cohort_scores, descending=True)[:KNN] #nearest impostors\n",
    "        sk = (cohort_scores[nnk] - cohort_scores.mean()) / (cohort_scores.std()) + (cohort_scores[nnk] - incohort_mean[nnk]) / incohort_std[nnk] #statistics for nearest impostors\n",
    "        nnk_means.append(sk.mean())\n",
    "        nnk_stds.append(sk.std())\n",
    "        \n",
    "    snorm_mean = torch.stack(snorm_mean).squeeze()\n",
    "    snorm_std = torch.stack(snorm_std).squeeze()\n",
    "    nnk_means = torch.stack(nnk_means).squeeze()\n",
    "    nnk_stds = torch.stack(nnk_stds).squeeze()\n",
    "    ans = []\n",
    "    for i, emb in tqdm(enumerate(all_embs), total=len(all_embs), leave=False):\n",
    "        scores = torch.matmul(all_embs, emb)\n",
    "        snorm_scores = (scores - snorm_mean[i]) / (snorm_std[i]) + (scores - snorm_mean) / (snorm_std)\n",
    "        ckd_scores = (snorm_scores - nnk_means[i]) / nnk_stds[i] + (snorm_scores - nnk_means) / nnk_stds\n",
    "        snorm_a = 0.3\n",
    "        scores = snorm_a * snorm_scores + (1 - snorm_a) * ckd_scores #ASNorm\n",
    "        assert scores.dim() == 1\n",
    "        scores[i] = -1000\n",
    "        scores = torch.argsort(scores, descending=True)[:100].cpu().numpy()\n",
    "        ans.append(scores)\n",
    "        \n",
    "ans_dict = {val_meta.iloc[i].trackid: list(val_meta.iloc[row].trackid) for i, row in tqdm(enumerate(ans))}\n",
    "eval_submission(ans_dict, val_meta, 100)"
   ]
  },
  {
   "cell_type": "code",
   "execution_count": 17,
   "id": "d93b02ab",
   "metadata": {
    "cellId": "yo6nx5i4mbkk6b2akx3lt"
   },
   "outputs": [],
   "source": [
    "#!g1.1\n",
    "from datasets import TestDataset"
   ]
  },
  {
   "cell_type": "code",
   "execution_count": 18,
   "id": "cc8eabc7",
   "metadata": {
    "cellId": "zn7m8aaqv5i6pxy13ix87f"
   },
   "outputs": [],
   "source": [
    "#!g1.1\n",
    "test_meta = pd.read_csv(os.path.join(BASE, 'test_meta.tsv'), sep='\\t')\n",
    "test_dataset = TestDataset(test_meta, os.path.join(BASE, 'test_features'))\n",
    "test_loader = DataLoader(test_dataset, batch_size=256, shuffle=False, num_workers=nw, drop_last=False, pin_memory=True)"
   ]
  },
  {
   "cell_type": "code",
   "execution_count": 19,
   "id": "1d56acfc",
   "metadata": {
    "cellId": "moy9ook1uxewtew427pfhl"
   },
   "outputs": [
    {
     "name": "stderr",
     "output_type": "stream",
     "text": [
      "\r"
     ]
    }
   ],
   "source": [
    "#!g1.1\n",
    "KNN = 400\n",
    "model.eval()\n",
    "with torch.no_grad():\n",
    "    all_embs = []\n",
    "    folds = []\n",
    "    for X, y in tqdm(test_loader, desc='test', leave=False):\n",
    "        n_per_spk = X.shape[1]\n",
    "        X = X.to(DEVICE); y = y.to(DEVICE);\n",
    "        X = X.reshape(X.shape[0] * X.shape[1], X.shape[2], X.shape[3])\n",
    "        emb = model(X)\n",
    "        emb = emb.reshape(emb.shape[0] // n_per_spk, n_per_spk, -1)\n",
    "        emb = F.normalize(emb, dim=-1).mean(dim=1)\n",
    "        all_embs.append(emb)\n",
    "        \n",
    "    all_embs = torch.cat(all_embs, dim=0)\n",
    "    all_embs = F.normalize(all_embs, dim=-1)\n",
    "    \n",
    "    \n",
    "    snorm_mean = []\n",
    "    snorm_std = []\n",
    "    nnk_means = []\n",
    "    nnk_stds = []\n",
    "    for i, emb in tqdm(enumerate(all_embs), total=len(all_embs), leave=False):\n",
    "        cohort_scores = torch.matmul(cohort_embs, emb)\n",
    "        snorm_mean.append(cohort_scores.mean())\n",
    "        snorm_std.append(cohort_scores.std())\n",
    "        nnk = torch.argsort(cohort_scores, descending=True)[:KNN]\n",
    "        sk = (cohort_scores[nnk] - cohort_scores.mean()) / (cohort_scores.std()) + (cohort_scores[nnk] - incohort_mean[nnk]) / incohort_std[nnk]\n",
    "        nnk_means.append(sk.mean())\n",
    "        nnk_stds.append(sk.std())\n",
    "        \n",
    "    snorm_mean = torch.stack(snorm_mean).squeeze()\n",
    "    snorm_std = torch.stack(snorm_std).squeeze()\n",
    "    nnk_means = torch.stack(nnk_means).squeeze()\n",
    "    nnk_stds = torch.stack(nnk_stds).squeeze()\n",
    "    ANS = []\n",
    "    for i, emb in tqdm(enumerate(all_embs), total=len(all_embs), leave=False):\n",
    "        scores = torch.matmul(all_embs, emb)\n",
    "        snorm_scores = (scores - snorm_mean[i]) / (snorm_std[i]) + (scores - snorm_mean) / (snorm_std)\n",
    "        ckd_scores = (snorm_scores - nnk_means[i]) / nnk_stds[i] + (snorm_scores - nnk_means) / nnk_stds\n",
    "        snorm_a = 0.3\n",
    "        scores = snorm_a * snorm_scores + (1 - snorm_a) * ckd_scores\n",
    "        assert scores.dim() == 1\n",
    "        scores[i] = -1000\n",
    "        scores = torch.argsort(scores, descending=True)[:100].cpu().numpy()\n",
    "        ANS.append(scores)"
   ]
  },
  {
   "cell_type": "code",
   "execution_count": 20,
   "id": "3aac8db5",
   "metadata": {
    "cellId": "wzltyyon3r98lhonpw96fl"
   },
   "outputs": [
    {
     "name": "stderr",
     "output_type": "stream",
     "text": [
      "100%|██████████| 41377/41377 [00:27<00:00, 1482.47it/s]\n"
     ]
    }
   ],
   "source": [
    "#!g1.1\n",
    "with open('submission_att2net_snorm10k_2step_0.54113val4.txt', 'w') as f: #dump submission\n",
    "    for i, ans_row in tqdm(enumerate(ANS), total=len(ANS)):\n",
    "        test_row = test_meta.iloc[i]\n",
    "        fstring = str(test_row.trackid) + '\\t' + ' '.join([str(a) for a in list(test_meta.iloc[ans_row].trackid)]) + '\\n'\n",
    "        f.write(fstring)"
   ]
  },
  {
   "cell_type": "code",
   "execution_count": null,
   "id": "07d4d38f",
   "metadata": {
    "cellId": "99b0r1di0fuotgpar14ybl"
   },
   "outputs": [],
   "source": [
    "#!g1.1\n"
   ]
  }
 ],
 "metadata": {
  "kernelspec": {
   "display_name": "Python 3",
   "language": "python",
   "name": "python3"
  },
  "language_info": {
   "codemirror_mode": {
    "name": "ipython",
    "version": 3
   },
   "file_extension": ".py",
   "mimetype": "text/x-python",
   "name": "python",
   "nbconvert_exporter": "python",
   "pygments_lexer": "ipython3",
   "version": "3.6.6"
  },
  "notebookId": "0f2f00d1-3dca-4439-bd17-578a2a4645ff",
  "notebookPath": "old_train.ipynb"
 },
 "nbformat": 4,
 "nbformat_minor": 5
}
